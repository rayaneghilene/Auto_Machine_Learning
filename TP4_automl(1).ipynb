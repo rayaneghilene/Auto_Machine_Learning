{
 "cells": [
  {
   "cell_type": "markdown",
   "metadata": {},
   "source": [
    "# TP: Machine Learning (SIA_3611)\n",
    "\n",
    "## TP4: AutoML (4h) \n",
    "\n",
    "by Guillaume Renton \n",
    "\n",
    "In previous TP, you have learned to use machine learning for different kind of tasks, from regression to clustering through classification. In this TP, you are going to use the earned knowledge on new datasets for regression and classification. \n",
    "\n",
    "You are going to use 2 new datasets in this TP. First one is california housing, whose target variable is the value of houses in california, expressed in hundred of thousand of dollars. For each house, a set of 9 features is available. There is a total of 20 060 data. \n",
    "\n",
    "Second one is MNIST, a very popular dataset for handwritten recognition and image classification. The original dataset is made of 60 000 training images of shape 28x28 of handwritten digits from 0 to 9, and 10 000 images for test dataset. For computaional time, you will work on a given random subset of MNIST made of 6000 images in train and 1000 images in test.  \n",
    "\n",
    "**Objectives :** \n",
    "- Apply your knowledge on new datasets\n",
    "- Tune models hyperparameters and explore metrics \n",
    "- Apply principal components analysis and understand its effects on both dataset\n",
    "- Understand and use Cross-Validation\n",
    "- Use AutoML to find interesting models "
   ]
  },
  {
   "cell_type": "markdown",
   "metadata": {},
   "source": [
    "### STEP 1 : Getting started with new datasets\n",
    "\n",
    "#### Substep 1 : Regression\n",
    "\n",
    "In first part of step 1, you will work on the regression problem with the dataset california housing."
   ]
  },
  {
   "cell_type": "markdown",
   "metadata": {},
   "source": [
    "**To do 1.1**\n",
    "\n",
    "Execute the following cell to load the california housing dataset and normalize it."
   ]
  },
  {
   "cell_type": "code",
   "execution_count": 1,
   "metadata": {},
   "outputs": [],
   "source": [
    "from sklearn.datasets import fetch_california_housing\n",
    "from sklearn.preprocessing import normalize\n",
    "\n",
    "X, y = fetch_california_housing(return_X_y = True)\n",
    "X = normalize(X)"
   ]
  },
  {
   "cell_type": "markdown",
   "metadata": {},
   "source": [
    "**To code 1.2**\n",
    "\n",
    "Apply [Stochastic Gradient Descent](https://scikit-learn.org/stable/modules/generated/sklearn.linear_model.SGDRegressor.html#sklearn.linear_model.SGDRegressor) and [SVR](https://scikit-learn.org/stable/modules/generated/sklearn.svm.SVR.html) methods and cross validate your results using 5 folders. For this, you can either use the function [cross_val_score](https://scikit-learn.org/stable/modules/generated/sklearn.model_selection.cross_val_score.html#sklearn.model_selection.cross_val_score)(or any other method for cross validation in sklearn) or either compute yourself the cross validation. According to a relevant metric optimize both methods. For SGD you will optimize the value of alpha for both L2 and L1 penalty score. For SVR, you will optimize the kernel. Be careful with the metric if you use cross_val_score, the returned values are often negative."
   ]
  },
  {
   "cell_type": "code",
   "execution_count": 12,
   "metadata": {},
   "outputs": [
    {
     "name": "stdout",
     "output_type": "stream",
     "text": [
      "MSE:  1.3753729636125838\n",
      "R2:  0.0027334763484893054\n"
     ]
    }
   ],
   "source": [
    "#Apply SGD to the data\n",
    "\n",
    "from sklearn.linear_model import SGDRegressor\n",
    "from sklearn.model_selection import train_test_split\n",
    "\n",
    "X_train, X_test, y_train, y_test = train_test_split(X,y)\n",
    "\n",
    "sgd = SGDRegressor()\n",
    "\n",
    "sgd.fit(X_train, y_train)\n",
    "\n",
    "y_pred = sgd.predict(X_test)\n",
    "\n",
    "\n",
    "#Evaluate the model witn mse and r2\n",
    "\n",
    "from sklearn.metrics import mean_squared_error, r2_score\n",
    "\n",
    "mse = mean_squared_error(y_test, y_pred)\n",
    "r2 = r2_score(y_test, y_pred)\n",
    "\n",
    "print(\"MSE: \", mse)\n",
    "print(\"R2: \", r2)\n",
    "\n",
    "\n"
   ]
  },
  {
   "cell_type": "code",
   "execution_count": null,
   "metadata": {},
   "outputs": [],
   "source": []
  },
  {
   "cell_type": "markdown",
   "metadata": {},
   "source": [
    "**Question 1**\n",
    "\n",
    "According to your metric, which method obtain the best result ? "
   ]
  },
  {
   "cell_type": "markdown",
   "metadata": {},
   "source": [
    "**Question 2**\n",
    "\n",
    "What is the interest of using cross validation in general ? Is it relevant in this particular case ?"
   ]
  },
  {
   "cell_type": "markdown",
   "metadata": {},
   "source": [
    "**To code 1.3**\n",
    "\n",
    "Transform your data according to [principal component analysis](https://scikit-learn.org/stable/modules/generated/sklearn.decomposition.PCA.html), and optimize the number of components according to the same metric than previously for both models."
   ]
  },
  {
   "cell_type": "code",
   "execution_count": null,
   "metadata": {},
   "outputs": [],
   "source": []
  },
  {
   "cell_type": "code",
   "execution_count": null,
   "metadata": {},
   "outputs": [],
   "source": []
  },
  {
   "cell_type": "markdown",
   "metadata": {},
   "source": [
    "**Question 3**\n",
    "\n",
    "What is the interest of Principal Component Analysis in general ? Is it relevant here ?"
   ]
  },
  {
   "cell_type": "markdown",
   "metadata": {},
   "source": [
    "#### Substep 2 : Classification\n",
    "\n",
    "**To do 1.4**\n",
    "\n",
    "Execute the following cells to load a subset of MNIST dataset. Since the dataset is already divided into training/test, we won't use cross validation this time."
   ]
  },
  {
   "cell_type": "code",
   "execution_count": null,
   "metadata": {},
   "outputs": [],
   "source": [
    "import pickle\n",
    "with open(\"data/mnist.pkl\", \"rb\") as f:\n",
    "    ((X_train, y_train), (X_test, y_test)) = pickle.load(f)"
   ]
  },
  {
   "cell_type": "markdown",
   "metadata": {},
   "source": [
    "**To code 1.5**\n",
    "\n",
    "Compute classification on those images using a [KNN classifier](https://scikit-learn.org/stable/modules/generated/sklearn.neighbors.KNeighborsClassifier.html#sklearn.neighbors.KNeighborsClassifier) and an [Adaboost classifier](https://scikit-learn.org/stable/modules/generated/sklearn.ensemble.AdaBoostClassifier.html). For each classifier, optimize the parameters according to a relevant metric. For the KNN classifier, you will optimize the number of neighbor while for the Adaboost classifier, you will optimize the base estimator along with the number of estimators (for the basis estimator, limit yourself to different depth of decision tree classifier). \n",
    "\n",
    "Also, for each model, compute the confusion matrix."
   ]
  },
  {
   "cell_type": "code",
   "execution_count": null,
   "metadata": {},
   "outputs": [],
   "source": []
  },
  {
   "cell_type": "code",
   "execution_count": null,
   "metadata": {},
   "outputs": [],
   "source": []
  },
  {
   "cell_type": "markdown",
   "metadata": {},
   "source": [
    "**Question 4**\n",
    "\n",
    "According to your metric, which method obtain the best results ? "
   ]
  },
  {
   "cell_type": "markdown",
   "metadata": {},
   "source": [
    "**Question 5**\n",
    "\n",
    "According to the confusion matrix, which class if the easiest to classify ? Which ones are the most difficult ? Which ones are the most confused with each other ?"
   ]
  },
  {
   "cell_type": "markdown",
   "metadata": {},
   "source": [
    "**Bonus** \n",
    "\n",
    "For the Adaboost classifier, explore other classifier as base estimators. What are the limitations about those estimators ?"
   ]
  },
  {
   "cell_type": "markdown",
   "metadata": {},
   "source": [
    "**To code 1.6**\n",
    "\n",
    "Transform your data according to principal component analysis, and optimize the number of components according to the same metric than previously for each classifier.\n",
    "\n",
    "Once again, compute the confusion matrix for each model. "
   ]
  },
  {
   "cell_type": "code",
   "execution_count": null,
   "metadata": {},
   "outputs": [],
   "source": []
  },
  {
   "cell_type": "code",
   "execution_count": null,
   "metadata": {},
   "outputs": [],
   "source": []
  },
  {
   "cell_type": "markdown",
   "metadata": {},
   "source": [
    "**Question 6**\n",
    "\n",
    "Is the use of PCA relevant here ? "
   ]
  },
  {
   "cell_type": "markdown",
   "metadata": {},
   "source": [
    "**Question 7**\n",
    "\n",
    "Did your answers from question 5 changed with PCA ?"
   ]
  },
  {
   "cell_type": "markdown",
   "metadata": {},
   "source": [
    "### Step 2 : AutoML\n",
    "\n",
    "In this second section, we discuss on the utilisation of AutoMl tools, such as auto-sklearn.\n",
    "If you are using colab or don't have auto-sklearn installed, you may need to run the following cell at first in order to install auto-sklearn. This will require you to restart the runtime (a prompt will invite you to). \n",
    "\n",
    "Restarting the runtime will clear all your variables and imported libraries, so you will need to import them again."
   ]
  },
  {
   "cell_type": "code",
   "execution_count": 6,
   "metadata": {},
   "outputs": [
    {
     "name": "stdout",
     "output_type": "stream",
     "text": [
      "[sudo] Mot de passe de guillaume : \n",
      "Collecting scipy==1.6\n",
      "  Downloading scipy-1.6.0-cp38-cp38-manylinux1_x86_64.whl (27.2 MB)\n",
      "\u001b[K     |████████████████████████████████| 27.2 MB 8.3 MB/s eta 0:00:01\n",
      "\u001b[?25hCollecting numpy>=1.16.5\n",
      "  Downloading numpy-1.23.4-cp38-cp38-manylinux_2_17_x86_64.manylinux2014_x86_64.whl (17.1 MB)\n",
      "\u001b[K     |████████████████████████████████| 17.1 MB 42.7 MB/s eta 0:00:01\n",
      "\u001b[31mERROR: seaborn 0.12.1 has requirement matplotlib!=3.6.1,>=3.1, but you'll have matplotlib 3.6.1 which is incompatible.\u001b[0m\n",
      "\u001b[31mERROR: pandas 1.5.1 has requirement pytz>=2020.1, but you'll have pytz 2019.3 which is incompatible.\u001b[0m\n",
      "\u001b[31mERROR: apache-beam 2.31.0 has requirement numpy<1.21.0,>=1.14.3, but you'll have numpy 1.23.4 which is incompatible.\u001b[0m\n",
      "\u001b[31mERROR: apache-beam 2.31.0 has requirement requests<3.0.0,>=2.24.0, but you'll have requests 2.22.0 which is incompatible.\u001b[0m\n",
      "\u001b[?25hInstalling collected packages: numpy, scipy\n",
      "  Attempting uninstall: numpy\n",
      "    Found existing installation: numpy 1.20.3\n",
      "    Uninstalling numpy-1.20.3:\n",
      "      Successfully uninstalled numpy-1.20.3\n",
      "  Attempting uninstall: scipy\n",
      "    Found existing installation: scipy 1.4.0\n",
      "    Uninstalling scipy-1.4.0:\n",
      "      Successfully uninstalled scipy-1.4.0\n",
      "Successfully installed numpy-1.23.4 scipy-1.6.0\n",
      "Processing /home/guillaume/.cache/pip/wheels/c5/11/0e/aeac2cee929fa4388e528737b49deb2eea05486e6f80d61c1a/auto_sklearn-0.15.0-py3-none-any.whl\n",
      "Collecting typing-extensions\n",
      "  Using cached typing_extensions-4.4.0-py3-none-any.whl (26 kB)\n",
      "Collecting joblib\n",
      "  Using cached joblib-1.2.0-py3-none-any.whl (297 kB)\n",
      "Collecting pyyaml\n",
      "  Using cached PyYAML-6.0-cp38-cp38-manylinux_2_5_x86_64.manylinux1_x86_64.manylinux_2_12_x86_64.manylinux2010_x86_64.whl (701 kB)\n",
      "Collecting smac<1.3,>=1.2\n",
      "  Using cached smac-1.2.tar.gz (260 kB)\n",
      "Collecting scipy>=1.7.0\n",
      "  Downloading scipy-1.9.3-cp38-cp38-manylinux_2_17_x86_64.manylinux2014_x86_64.whl (33.8 MB)\n",
      "\u001b[K     |████████████████████████████████| 33.8 MB 17.4 MB/s eta 0:00:01\n",
      "\u001b[?25hCollecting distributed>=2012.12\n",
      "  Downloading distributed-2022.10.0-py3-none-any.whl (908 kB)\n",
      "\u001b[K     |████████████████████████████████| 908 kB 28.8 MB/s eta 0:00:01\n",
      "\u001b[?25hCollecting pynisher<0.7,>=0.6.3\n",
      "  Using cached pynisher-0.6.4.tar.gz (11 kB)\n",
      "Collecting setuptools\n",
      "  Downloading setuptools-65.5.0-py3-none-any.whl (1.2 MB)\n",
      "\u001b[K     |████████████████████████████████| 1.2 MB 49.9 MB/s eta 0:00:01\n",
      "\u001b[?25hCollecting distro\n",
      "  Using cached distro-1.8.0-py3-none-any.whl (20 kB)\n",
      "Collecting threadpoolctl\n",
      "  Using cached threadpoolctl-3.1.0-py3-none-any.whl (14 kB)\n",
      "Collecting dask>=2021.12\n",
      "  Downloading dask-2022.10.0-py3-none-any.whl (1.1 MB)\n",
      "\u001b[K     |████████████████████████████████| 1.1 MB 30.5 MB/s eta 0:00:01\n",
      "\u001b[?25hCollecting liac-arff\n",
      "  Using cached liac-arff-2.5.0.tar.gz (13 kB)\n",
      "Collecting numpy>=1.9.0\n",
      "  Using cached numpy-1.23.4-cp38-cp38-manylinux_2_17_x86_64.manylinux2014_x86_64.whl (17.1 MB)\n",
      "Collecting pyrfr<0.9,>=0.8.1\n",
      "  Using cached pyrfr-0.8.3-cp38-cp38-manylinux_2_17_x86_64.manylinux2014_x86_64.whl (4.4 MB)\n",
      "Collecting ConfigSpace<0.5,>=0.4.21\n",
      "  Using cached ConfigSpace-0.4.21-cp38-cp38-manylinux_2_17_x86_64.manylinux2014_x86_64.whl (4.9 MB)\n",
      "Collecting scikit-learn<0.25.0,>=0.24.0\n",
      "  Using cached scikit_learn-0.24.2-cp38-cp38-manylinux2010_x86_64.whl (24.9 MB)\n",
      "Collecting pandas>=1.0\n",
      "  Using cached pandas-1.5.1-cp38-cp38-manylinux_2_17_x86_64.manylinux2014_x86_64.whl (12.2 MB)\n",
      "Collecting emcee>=3.0.0\n",
      "  Using cached emcee-3.1.3-py2.py3-none-any.whl (46 kB)\n",
      "Collecting psutil\n",
      "  Downloading psutil-5.9.3-cp38-cp38-manylinux_2_12_x86_64.manylinux2010_x86_64.manylinux_2_17_x86_64.manylinux2014_x86_64.whl (295 kB)\n",
      "\u001b[K     |████████████████████████████████| 295 kB 42.0 MB/s eta 0:00:01\n",
      "\u001b[?25hCollecting cloudpickle>=1.5.0\n",
      "  Using cached cloudpickle-2.2.0-py3-none-any.whl (25 kB)\n",
      "Collecting sortedcontainers!=2.0.0,!=2.0.1\n",
      "  Using cached sortedcontainers-2.4.0-py2.py3-none-any.whl (29 kB)\n",
      "Collecting msgpack>=0.6.0\n",
      "  Using cached msgpack-1.0.4-cp38-cp38-manylinux_2_17_x86_64.manylinux2014_x86_64.whl (322 kB)\n",
      "Collecting toolz>=0.8.2\n",
      "  Using cached toolz-0.12.0-py3-none-any.whl (55 kB)\n",
      "Collecting urllib3\n",
      "  Using cached urllib3-1.26.12-py2.py3-none-any.whl (140 kB)\n",
      "Collecting locket>=1.0.0\n",
      "  Using cached locket-1.0.0-py2.py3-none-any.whl (4.4 kB)\n",
      "Collecting jinja2\n",
      "  Using cached Jinja2-3.1.2-py3-none-any.whl (133 kB)\n",
      "Collecting zict>=0.1.3\n",
      "  Using cached zict-2.2.0-py2.py3-none-any.whl (23 kB)\n",
      "Collecting packaging>=20.0\n",
      "  Using cached packaging-21.3-py3-none-any.whl (40 kB)\n",
      "Collecting tornado<6.2,>=6.0.3\n",
      "  Using cached tornado-6.1-cp38-cp38-manylinux2010_x86_64.whl (427 kB)\n",
      "Collecting click>=6.6\n",
      "  Using cached click-8.1.3-py3-none-any.whl (96 kB)\n",
      "Collecting tblib>=1.6.0\n",
      "  Using cached tblib-1.7.0-py2.py3-none-any.whl (12 kB)\n",
      "Collecting partd>=0.3.10\n",
      "  Using cached partd-1.3.0-py3-none-any.whl (18 kB)\n",
      "Collecting fsspec>=0.6.0\n",
      "  Using cached fsspec-2022.10.0-py3-none-any.whl (138 kB)\n",
      "Collecting cython\n",
      "  Using cached Cython-0.29.32-cp38-cp38-manylinux_2_17_x86_64.manylinux2014_x86_64.manylinux_2_24_x86_64.whl (1.9 MB)\n",
      "Collecting pyparsing\n",
      "  Using cached pyparsing-3.0.9-py3-none-any.whl (98 kB)\n",
      "Collecting pytz>=2020.1\n",
      "  Downloading pytz-2022.5-py2.py3-none-any.whl (500 kB)\n",
      "\u001b[K     |████████████████████████████████| 500 kB 61.1 MB/s eta 0:00:01\n",
      "\u001b[?25hCollecting python-dateutil>=2.8.1\n",
      "  Using cached python_dateutil-2.8.2-py2.py3-none-any.whl (247 kB)\n",
      "Collecting MarkupSafe>=2.0\n",
      "  Using cached MarkupSafe-2.1.1-cp38-cp38-manylinux_2_17_x86_64.manylinux2014_x86_64.whl (25 kB)\n",
      "Collecting heapdict\n",
      "  Using cached HeapDict-1.0.1-py3-none-any.whl (3.9 kB)\n",
      "Collecting six>=1.5\n",
      "  Using cached six-1.16.0-py2.py3-none-any.whl (11 kB)\n",
      "Building wheels for collected packages: smac, pynisher, liac-arff\n",
      "  Building wheel for smac (setup.py) ... \u001b[?25ldone\n",
      "\u001b[?25h  Created wheel for smac: filename=smac-1.2-py3-none-any.whl size=215920 sha256=344431141df75ca378c02defdd97b1441bc67cc8be7af31e4cf13088634d598a\n",
      "  Stored in directory: /home/guillaume/.cache/pip/wheels/1c/0d/63/29515e546f52561bf5ff41e3968fe2c35afe4ae366be54b2c4\n",
      "  Building wheel for pynisher (setup.py) ... \u001b[?25ldone\n",
      "\u001b[?25h  Created wheel for pynisher: filename=pynisher-0.6.4-py3-none-any.whl size=7040 sha256=5676cdb8bfcb39d8b9eed2de5423bb684dcaf3f8c34c8a38189facfed05369e0\n",
      "  Stored in directory: /home/guillaume/.cache/pip/wheels/a7/0b/c3/169e35bcd72f20d0d5e24c37dd2dff8282cc16c06df9762ff5\n",
      "  Building wheel for liac-arff (setup.py) ... \u001b[?25ldone\n",
      "\u001b[?25h  Created wheel for liac-arff: filename=liac_arff-2.5.0-py3-none-any.whl size=11731 sha256=91733227a13f680a667f4710233ea5450d3b232bac17267562565ce9ac592bd5\n",
      "  Stored in directory: /home/guillaume/.cache/pip/wheels/a2/de/68/bf3972de3ecb31e32bef59a7f4c75f0687a3674c476b347c14\n",
      "Successfully built smac pynisher liac-arff\n",
      "\u001b[31mERROR: launchpadlib 1.10.13 requires testresources, which is not installed.\u001b[0m\n",
      "\u001b[31mERROR: seaborn 0.12.1 has requirement matplotlib!=3.6.1,>=3.1, but you'll have matplotlib 3.6.1 which is incompatible.\u001b[0m\n",
      "\u001b[31mERROR: jupyter-client 7.3.5 has requirement tornado>=6.2, but you'll have tornado 6.1 which is incompatible.\u001b[0m\n",
      "\u001b[31mERROR: google-cloud-core 1.7.3 has requirement google-auth<2.0dev,>=1.24.0, but you'll have google-auth 2.13.0 which is incompatible.\u001b[0m\n",
      "\u001b[31mERROR: google-auth-httplib2 0.1.0 has requirement httplib2>=0.15.0, but you'll have httplib2 0.14.0 which is incompatible.\u001b[0m\n",
      "\u001b[31mERROR: google-api-python-client 2.65.0 has requirement httplib2<1dev,>=0.15.0, but you'll have httplib2 0.14.0 which is incompatible.\u001b[0m\n",
      "\u001b[31mERROR: apache-beam 2.31.0 has requirement numpy<1.21.0,>=1.14.3, but you'll have numpy 1.23.4 which is incompatible.\u001b[0m\n",
      "\u001b[31mERROR: apache-beam 2.31.0 has requirement requests<3.0.0,>=2.24.0, but you'll have requests 2.22.0 which is incompatible.\u001b[0m\n",
      "\u001b[31mERROR: apache-beam 2.31.0 has requirement typing-extensions<3.8.0,>=3.7.0, but you'll have typing-extensions 4.4.0 which is incompatible.\u001b[0m\n",
      "Installing collected packages: typing-extensions, joblib, pyyaml, numpy, cython, scipy, pyparsing, ConfigSpace, toolz, cloudpickle, packaging, locket, partd, fsspec, dask, sortedcontainers, msgpack, psutil, urllib3, MarkupSafe, jinja2, heapdict, zict, tornado, click, tblib, distributed, emcee, setuptools, pynisher, pyrfr, threadpoolctl, scikit-learn, smac, distro, liac-arff, pytz, six, python-dateutil, pandas, auto-sklearn\n",
      "  Attempting uninstall: typing-extensions\n",
      "    Found existing installation: typing-extensions 3.7.4.3\n",
      "    Uninstalling typing-extensions-3.7.4.3:\n"
     ]
    },
    {
     "name": "stdout",
     "output_type": "stream",
     "text": [
      "      Successfully uninstalled typing-extensions-3.7.4.3\n",
      "  Attempting uninstall: joblib\n",
      "    Found existing installation: joblib 1.2.0\n",
      "    Uninstalling joblib-1.2.0:\n",
      "      Successfully uninstalled joblib-1.2.0\n",
      "  Attempting uninstall: numpy\n",
      "    Found existing installation: numpy 1.23.4\n",
      "    Uninstalling numpy-1.23.4:\n",
      "      Successfully uninstalled numpy-1.23.4\n",
      "  Attempting uninstall: scipy\n",
      "    Found existing installation: scipy 1.6.0\n",
      "    Uninstalling scipy-1.6.0:\n",
      "      Successfully uninstalled scipy-1.6.0\n",
      "  Attempting uninstall: pyparsing\n",
      "    Found existing installation: pyparsing 3.0.9\n",
      "    Uninstalling pyparsing-3.0.9:\n",
      "      Successfully uninstalled pyparsing-3.0.9\n",
      "  Attempting uninstall: packaging\n",
      "    Found existing installation: packaging 21.3\n",
      "    Uninstalling packaging-21.3:\n",
      "      Successfully uninstalled packaging-21.3\n",
      "  Attempting uninstall: fsspec\n",
      "    Found existing installation: fsspec 2022.10.0\n",
      "    Uninstalling fsspec-2022.10.0:\n",
      "      Successfully uninstalled fsspec-2022.10.0\n",
      "  Attempting uninstall: psutil\n",
      "    Found existing installation: psutil 5.9.2\n",
      "    Uninstalling psutil-5.9.2:\n",
      "      Successfully uninstalled psutil-5.9.2\n",
      "  Attempting uninstall: MarkupSafe\n",
      "    Found existing installation: MarkupSafe 2.1.1\n",
      "    Uninstalling MarkupSafe-2.1.1:\n",
      "      Successfully uninstalled MarkupSafe-2.1.1\n",
      "  Attempting uninstall: jinja2\n",
      "    Found existing installation: Jinja2 3.1.2\n",
      "    Uninstalling Jinja2-3.1.2:\n",
      "      Successfully uninstalled Jinja2-3.1.2\n",
      "  Attempting uninstall: tornado\n",
      "    Found existing installation: tornado 6.2\n",
      "    Uninstalling tornado-6.2:\n",
      "      Successfully uninstalled tornado-6.2\n",
      "  Attempting uninstall: threadpoolctl\n",
      "    Found existing installation: threadpoolctl 3.1.0\n",
      "    Uninstalling threadpoolctl-3.1.0:\n",
      "      Successfully uninstalled threadpoolctl-3.1.0\n",
      "  Attempting uninstall: scikit-learn\n",
      "    Found existing installation: scikit-learn 1.1.2\n",
      "    Uninstalling scikit-learn-1.1.2:\n",
      "      Successfully uninstalled scikit-learn-1.1.2\n",
      "  Attempting uninstall: python-dateutil\n",
      "    Found existing installation: python-dateutil 2.8.2\n",
      "    Uninstalling python-dateutil-2.8.2:\n",
      "      Successfully uninstalled python-dateutil-2.8.2\n",
      "  Attempting uninstall: pandas\n",
      "    Found existing installation: pandas 1.5.1\n",
      "    Uninstalling pandas-1.5.1:\n",
      "      Successfully uninstalled pandas-1.5.1\n",
      "Successfully installed ConfigSpace-0.4.21 MarkupSafe-2.1.1 auto-sklearn-0.15.0 click-8.1.3 cloudpickle-2.2.0 cython-0.29.32 dask-2022.10.0 distributed-2022.10.0 distro-1.8.0 emcee-3.1.3 fsspec-2022.10.0 heapdict-1.0.1 jinja2-3.1.2 joblib-1.2.0 liac-arff-2.5.0 locket-1.0.0 msgpack-1.0.4 numpy-1.23.4 packaging-21.3 pandas-1.5.1 partd-1.3.0 psutil-5.9.3 pynisher-0.6.4 pyparsing-3.0.9 pyrfr-0.8.3 python-dateutil-2.8.2 pytz-2022.5 pyyaml-6.0 scikit-learn-0.24.2 scipy-1.9.3 setuptools-65.5.0 six-1.16.0 smac-1.2 sortedcontainers-2.4.0 tblib-1.7.0 threadpoolctl-3.1.0 toolz-0.12.0 tornado-6.1 typing-extensions-4.4.0 urllib3-1.26.12 zict-2.2.0\n"
     ]
    }
   ],
   "source": [
    "!pip install --force-reinstall scipy==1.6\n",
    "!pip install --force-reinstall auto-sklearn==0.15"
   ]
  },
  {
   "cell_type": "markdown",
   "metadata": {},
   "source": [
    "**To do 2.1**\n",
    "\n",
    "Execute the following cells.  "
   ]
  },
  {
   "cell_type": "code",
   "execution_count": 7,
   "metadata": {},
   "outputs": [],
   "source": [
    "from sklearn.datasets import fetch_california_housing\n",
    "from sklearn.model_selection import train_test_split\n",
    "X, y = fetch_california_housing(return_X_y = True)\n",
    "X_train, X_test, y_train, y_test = train_test_split(X, y, test_size=0.2, random_state=42)"
   ]
  },
  {
   "cell_type": "code",
   "execution_count": 8,
   "metadata": {},
   "outputs": [
    {
     "name": "stdout",
     "output_type": "stream",
     "text": [
      "[WARNING] [2022-10-26 11:36:57,989:Client-AutoMLSMBO(1)::California_Housing] Configuration 39 not found\n",
      "[WARNING] [2022-10-26 11:36:57,989:Client-AutoMLSMBO(1)::California_Housing] Configuration 201 not found\n",
      "[WARNING] [2022-10-26 11:36:57,989:Client-AutoMLSMBO(1)::California_Housing] Configuration 207 not found\n",
      "[WARNING] [2022-10-26 11:36:57,989:Client-AutoMLSMBO(1)::California_Housing] Configuration 31 not found\n",
      "[WARNING] [2022-10-26 11:36:57,989:Client-AutoMLSMBO(1)::California_Housing] Configuration 107 not found\n",
      "[WARNING] [2022-10-26 11:36:57,990:Client-AutoMLSMBO(1)::California_Housing] Configuration 279 not found\n",
      "[WARNING] [2022-10-26 11:36:57,990:Client-AutoMLSMBO(1)::California_Housing] Configuration 54 not found\n",
      "[WARNING] [2022-10-26 11:36:57,989:Client-AutoMLSMBO(1)::California_Housing] Configuration 102 not found\n",
      "[WARNING] [2022-10-26 11:36:57,990:Client-AutoMLSMBO(1)::California_Housing] Configuration 89 not found\n",
      "[WARNING] [2022-10-26 11:36:57,990:Client-AutoMLSMBO(1)::California_Housing] Configuration 156 not found\n",
      "[WARNING] [2022-10-26 11:36:57,990:Client-AutoMLSMBO(1)::California_Housing] Configuration 63 not found\n",
      "[WARNING] [2022-10-26 11:36:57,990:Client-AutoMLSMBO(1)::California_Housing] Configuration 274 not found\n",
      "[WARNING] [2022-10-26 11:36:57,990:Client-AutoMLSMBO(1)::California_Housing] Configuration 217 not found\n",
      "[WARNING] [2022-10-26 11:36:57,990:Client-AutoMLSMBO(1)::California_Housing] Configuration 6 not found\n",
      "[WARNING] [2022-10-26 11:36:57,990:Client-AutoMLSMBO(1)::California_Housing] Configuration 73 not found\n",
      "[WARNING] [2022-10-26 11:36:57,990:Client-AutoMLSMBO(1)::California_Housing] Configuration 13 not found\n",
      "[WARNING] [2022-10-26 11:36:57,990:Client-AutoMLSMBO(1)::California_Housing] Configuration 182 not found\n",
      "[WARNING] [2022-10-26 11:36:57,990:Client-AutoMLSMBO(1)::California_Housing] Configuration 199 not found\n",
      "[WARNING] [2022-10-26 11:36:57,990:Client-AutoMLSMBO(1)::California_Housing] Configuration 126 not found\n",
      "[WARNING] [2022-10-26 11:36:57,990:Client-AutoMLSMBO(1)::California_Housing] Configuration 66 not found\n",
      "[WARNING] [2022-10-26 11:36:57,990:Client-AutoMLSMBO(1)::California_Housing] Configuration 95 not found\n",
      "[WARNING] [2022-10-26 11:36:57,990:Client-AutoMLSMBO(1)::California_Housing] Configuration 225 not found\n",
      "[WARNING] [2022-10-26 11:36:57,990:Client-AutoMLSMBO(1)::California_Housing] Configuration 28 not found\n",
      "[WARNING] [2022-10-26 11:36:57,990:Client-AutoMLSMBO(1)::California_Housing] Configuration 150 not found\n",
      "[WARNING] [2022-10-26 11:36:57,990:Client-AutoMLSMBO(1)::California_Housing] Configuration 224 not found\n",
      "[WARNING] [2022-10-26 11:36:57,990:Client-AutoMLSMBO(1)::California_Housing] Configuration 174 not found\n",
      "[WARNING] [2022-10-26 11:36:57,990:Client-AutoMLSMBO(1)::California_Housing] Configuration 160 not found\n",
      "[WARNING] [2022-10-26 11:36:57,990:Client-AutoMLSMBO(1)::California_Housing] Configuration 77 not found\n",
      "[WARNING] [2022-10-26 11:36:57,990:Client-AutoMLSMBO(1)::California_Housing] Configuration 50 not found\n",
      "[WARNING] [2022-10-26 11:36:57,990:Client-AutoMLSMBO(1)::California_Housing] Configuration 115 not found\n",
      "[WARNING] [2022-10-26 11:36:57,990:Client-AutoMLSMBO(1)::California_Housing] Configuration 26 not found\n",
      "[WARNING] [2022-10-26 11:36:57,990:Client-AutoMLSMBO(1)::California_Housing] Configuration 184 not found\n",
      "[WARNING] [2022-10-26 11:36:57,990:Client-AutoMLSMBO(1)::California_Housing] Configuration 10 not found\n",
      "[WARNING] [2022-10-26 11:36:57,990:Client-AutoMLSMBO(1)::California_Housing] Configuration 119 not found\n",
      "[WARNING] [2022-10-26 11:36:57,991:Client-AutoMLSMBO(1)::California_Housing] Configuration 40 not found\n",
      "[WARNING] [2022-10-26 11:36:57,991:Client-AutoMLSMBO(1)::California_Housing] Configuration 276 not found\n",
      "[WARNING] [2022-10-26 11:36:57,991:Client-AutoMLSMBO(1)::California_Housing] Configuration 92 not found\n",
      "[WARNING] [2022-10-26 11:36:57,991:Client-AutoMLSMBO(1)::California_Housing] Configuration 191 not found\n",
      "[WARNING] [2022-10-26 11:36:57,991:Client-AutoMLSMBO(1)::California_Housing] Configuration 158 not found\n",
      "[WARNING] [2022-10-26 11:36:57,991:Client-AutoMLSMBO(1)::California_Housing] Configuration 43 not found\n",
      "[WARNING] [2022-10-26 11:36:57,991:Client-AutoMLSMBO(1)::California_Housing] Configuration 258 not found\n",
      "[WARNING] [2022-10-26 11:36:57,991:Client-AutoMLSMBO(1)::California_Housing] Configuration 193 not found\n",
      "[WARNING] [2022-10-26 11:36:57,991:Client-AutoMLSMBO(1)::California_Housing] Configuration 186 not found\n",
      "[WARNING] [2022-10-26 11:36:57,991:Client-AutoMLSMBO(1)::California_Housing] Configuration 144 not found\n",
      "[WARNING] [2022-10-26 11:36:57,991:Client-AutoMLSMBO(1)::California_Housing] Configuration 2 not found\n",
      "[WARNING] [2022-10-26 11:36:57,991:Client-AutoMLSMBO(1)::California_Housing] Configuration 98 not found\n",
      "[WARNING] [2022-10-26 11:36:57,991:Client-AutoMLSMBO(1)::California_Housing] Configuration 237 not found\n",
      "[WARNING] [2022-10-26 11:36:57,991:Client-AutoMLSMBO(1)::California_Housing] Configuration 262 not found\n",
      "[WARNING] [2022-10-26 11:36:57,991:Client-AutoMLSMBO(1)::California_Housing] Configuration 171 not found\n",
      "[WARNING] [2022-10-26 11:36:57,991:Client-AutoMLSMBO(1)::California_Housing] Configuration 57 not found\n",
      "[WARNING] [2022-10-26 11:36:57,991:Client-AutoMLSMBO(1)::California_Housing] Configuration 176 not found\n",
      "[WARNING] [2022-10-26 11:36:57,991:Client-AutoMLSMBO(1)::California_Housing] Configuration 132 not found\n",
      "[WARNING] [2022-10-26 11:36:57,991:Client-AutoMLSMBO(1)::California_Housing] Configuration 268 not found\n",
      "[WARNING] [2022-10-26 11:36:57,991:Client-AutoMLSMBO(1)::California_Housing] Configuration 105 not found\n",
      "[WARNING] [2022-10-26 11:36:57,991:Client-AutoMLSMBO(1)::California_Housing] Configuration 34 not found\n",
      "[WARNING] [2022-10-26 11:36:57,991:Client-AutoMLSMBO(1)::California_Housing] Configuration 67 not found\n",
      "[WARNING] [2022-10-26 11:36:57,991:Client-AutoMLSMBO(1)::California_Housing] Configuration 70 not found\n",
      "[WARNING] [2022-10-26 11:36:57,991:Client-AutoMLSMBO(1)::California_Housing] Configuration 270 not found\n",
      "[WARNING] [2022-10-26 11:36:57,991:Client-AutoMLSMBO(1)::California_Housing] Configuration 235 not found\n",
      "[WARNING] [2022-10-26 11:36:57,991:Client-AutoMLSMBO(1)::California_Housing] Configuration 163 not found\n",
      "[WARNING] [2022-10-26 11:36:57,991:Client-AutoMLSMBO(1)::California_Housing] Configuration 86 not found\n",
      "[WARNING] [2022-10-26 11:36:57,992:Client-AutoMLSMBO(1)::California_Housing] Configuration 245 not found\n",
      "[WARNING] [2022-10-26 11:36:57,992:Client-AutoMLSMBO(1)::California_Housing] Configuration 266 not found\n",
      "[WARNING] [2022-10-26 11:36:57,992:Client-AutoMLSMBO(1)::California_Housing] Configuration 285 not found\n",
      "[WARNING] [2022-10-26 11:36:57,992:Client-AutoMLSMBO(1)::California_Housing] Configuration 23 not found\n",
      "[WARNING] [2022-10-26 11:36:57,992:Client-AutoMLSMBO(1)::California_Housing] Configuration 124 not found\n",
      "[WARNING] [2022-10-26 11:36:57,992:Client-AutoMLSMBO(1)::California_Housing] Configuration 251 not found\n",
      "[WARNING] [2022-10-26 11:36:57,992:Client-AutoMLSMBO(1)::California_Housing] Configuration 140 not found\n",
      "[WARNING] [2022-10-26 11:36:57,992:Client-AutoMLSMBO(1)::California_Housing] Configuration 240 not found\n",
      "[WARNING] [2022-10-26 11:36:57,992:Client-AutoMLSMBO(1)::California_Housing] Configuration 197 not found\n",
      "[WARNING] [2022-10-26 11:36:57,993:Client-AutoMLSMBO(1)::California_Housing] Configuration 257 not found\n",
      "[WARNING] [2022-10-26 11:36:57,993:Client-AutoMLSMBO(1)::California_Housing] Configuration 128 not found\n",
      "[WARNING] [2022-10-26 11:36:57,993:Client-AutoMLSMBO(1)::California_Housing] Configuration 58 not found\n",
      "[WARNING] [2022-10-26 11:36:57,993:Client-AutoMLSMBO(1)::California_Housing] Configuration 282 not found\n",
      "[WARNING] [2022-10-26 11:36:57,993:Client-AutoMLSMBO(1)::California_Housing] Configuration 48 not found\n",
      "[WARNING] [2022-10-26 11:36:57,993:Client-AutoMLSMBO(1)::California_Housing] Configuration 138 not found\n",
      "[WARNING] [2022-10-26 11:36:57,993:Client-AutoMLSMBO(1)::California_Housing] Configuration 252 not found\n",
      "[WARNING] [2022-10-26 11:36:57,993:Client-AutoMLSMBO(1)::California_Housing] Configuration 101 not found\n",
      "[WARNING] [2022-10-26 11:36:57,993:Client-AutoMLSMBO(1)::California_Housing] Configuration 168 not found\n"
     ]
    },
    {
     "name": "stdout",
     "output_type": "stream",
     "text": [
      "[WARNING] [2022-10-26 11:36:57,993:Client-AutoMLSMBO(1)::California_Housing] Configuration 221 not found\n",
      "[WARNING] [2022-10-26 11:36:57,993:Client-AutoMLSMBO(1)::California_Housing] Configuration 148 not found\n",
      "[WARNING] [2022-10-26 11:36:57,993:Client-AutoMLSMBO(1)::California_Housing] Configuration 228 not found\n",
      "[WARNING] [2022-10-26 11:36:57,993:Client-AutoMLSMBO(1)::California_Housing] Configuration 153 not found\n",
      "[WARNING] [2022-10-26 11:36:57,993:Client-AutoMLSMBO(1)::California_Housing] Configuration 136 not found\n",
      "[WARNING] [2022-10-26 11:36:57,993:Client-AutoMLSMBO(1)::California_Housing] Configuration 179 not found\n",
      "[WARNING] [2022-10-26 11:36:57,993:Client-AutoMLSMBO(1)::California_Housing] Configuration 204 not found\n",
      "[WARNING] [2022-10-26 11:36:57,993:Client-AutoMLSMBO(1)::California_Housing] Configuration 110 not found\n"
     ]
    },
    {
     "name": "stderr",
     "output_type": "stream",
     "text": [
      "OpenBLAS blas_thread_init: pthread_create failed for thread 16 of 20: Resource temporarily unavailable\n",
      "OpenBLAS blas_thread_init: RLIMIT_NPROC 62132 current, 62132 max\n",
      "OpenBLAS blas_thread_init: pthread_create failed for thread 17 of 20: Resource temporarily unavailable\n",
      "OpenBLAS blas_thread_init: RLIMIT_NPROC 62132 current, 62132 max\n",
      "OpenBLAS blas_thread_init: pthread_create failed for thread 18 of 20: Resource temporarily unavailable\n",
      "OpenBLAS blas_thread_init: RLIMIT_NPROC 62132 current, 62132 max\n",
      "OpenBLAS blas_thread_init: pthread_create failed for thread 19 of 20: Resource temporarily unavailable\n",
      "OpenBLAS blas_thread_init: RLIMIT_NPROC 62132 current, 62132 max\n"
     ]
    },
    {
     "name": "stdout",
     "output_type": "stream",
     "text": [
      "[WARNING] [2022-10-26 11:36:59,117:Client-EnsembleBuilder] No runs were available to build an ensemble from\n"
     ]
    },
    {
     "name": "stderr",
     "output_type": "stream",
     "text": [
      "OpenBLAS blas_thread_init: pthread_create failed for thread 16 of 20: Resource temporarily unavailable\n",
      "OpenBLAS blas_thread_init: RLIMIT_NPROC 62132 current, 62132 max\n",
      "OpenBLAS blas_thread_init: pthread_create failed for thread 17 of 20: Resource temporarily unavailable\n",
      "OpenBLAS blas_thread_init: RLIMIT_NPROC 62132 current, 62132 max\n",
      "OpenBLAS blas_thread_init: pthread_create failed for thread 18 of 20: Resource temporarily unavailable\n",
      "OpenBLAS blas_thread_init: RLIMIT_NPROC 62132 current, 62132 max\n",
      "OpenBLAS blas_thread_init: pthread_create failed for thread 19 of 20: Resource temporarily unavailable\n",
      "OpenBLAS blas_thread_init: RLIMIT_NPROC 62132 current, 62132 max\n"
     ]
    },
    {
     "name": "stdout",
     "output_type": "stream",
     "text": [
      "[WARNING] [2022-10-26 11:37:00,215:Client-EnsembleBuilder] No runs were available to build an ensemble from\n"
     ]
    },
    {
     "name": "stderr",
     "output_type": "stream",
     "text": [
      "OpenBLAS blas_thread_init: pthread_create failed for thread 16 of 20: Resource temporarily unavailable\n",
      "OpenBLAS blas_thread_init: RLIMIT_NPROC 62132 current, 62132 max\n",
      "OpenBLAS blas_thread_init: pthread_create failed for thread 17 of 20: Resource temporarily unavailable\n",
      "OpenBLAS blas_thread_init: RLIMIT_NPROC 62132 current, 62132 max\n",
      "OpenBLAS blas_thread_init: pthread_create failed for thread 18 of 20: Resource temporarily unavailable\n",
      "OpenBLAS blas_thread_init: RLIMIT_NPROC 62132 current, 62132 max\n",
      "OpenBLAS blas_thread_init: pthread_create failed for thread 19 of 20: Resource temporarily unavailable\n",
      "OpenBLAS blas_thread_init: RLIMIT_NPROC 62132 current, 62132 max\n"
     ]
    },
    {
     "name": "stdout",
     "output_type": "stream",
     "text": [
      "[WARNING] [2022-10-26 11:37:01,311:Client-EnsembleBuilder] No runs were available to build an ensemble from\n"
     ]
    },
    {
     "name": "stderr",
     "output_type": "stream",
     "text": [
      "OpenBLAS blas_thread_init: pthread_create failed for thread 16 of 20: Resource temporarily unavailable\n",
      "OpenBLAS blas_thread_init: RLIMIT_NPROC 62132 current, 62132 max\n",
      "OpenBLAS blas_thread_init: pthread_create failed for thread 17 of 20: Resource temporarily unavailable\n",
      "OpenBLAS blas_thread_init: RLIMIT_NPROC 62132 current, 62132 max\n",
      "OpenBLAS blas_thread_init: pthread_create failed for thread 18 of 20: Resource temporarily unavailable\n",
      "OpenBLAS blas_thread_init: RLIMIT_NPROC 62132 current, 62132 max\n",
      "OpenBLAS blas_thread_init: pthread_create failed for thread 19 of 20: Resource temporarily unavailable\n",
      "OpenBLAS blas_thread_init: RLIMIT_NPROC 62132 current, 62132 max\n"
     ]
    },
    {
     "name": "stdout",
     "output_type": "stream",
     "text": [
      "[WARNING] [2022-10-26 11:37:02,405:Client-EnsembleBuilder] No runs were available to build an ensemble from\n"
     ]
    },
    {
     "name": "stderr",
     "output_type": "stream",
     "text": [
      "OpenBLAS blas_thread_init: pthread_create failed for thread 16 of 20: Resource temporarily unavailable\n",
      "OpenBLAS blas_thread_init: RLIMIT_NPROC 62132 current, 62132 max\n",
      "OpenBLAS blas_thread_init: pthread_create failed for thread 17 of 20: Resource temporarily unavailable\n",
      "OpenBLAS blas_thread_init: RLIMIT_NPROC 62132 current, 62132 max\n",
      "OpenBLAS blas_thread_init: pthread_create failed for thread 18 of 20: Resource temporarily unavailable\n",
      "OpenBLAS blas_thread_init: RLIMIT_NPROC 62132 current, 62132 max\n",
      "OpenBLAS blas_thread_init: pthread_create failed for thread 19 of 20: Resource temporarily unavailable\n",
      "OpenBLAS blas_thread_init: RLIMIT_NPROC 62132 current, 62132 max\n"
     ]
    },
    {
     "name": "stdout",
     "output_type": "stream",
     "text": [
      "[WARNING] [2022-10-26 11:37:03,495:Client-EnsembleBuilder] No runs were available to build an ensemble from\n"
     ]
    },
    {
     "name": "stderr",
     "output_type": "stream",
     "text": [
      "OpenBLAS blas_thread_init: pthread_create failed for thread 16 of 20: Resource temporarily unavailable\n",
      "OpenBLAS blas_thread_init: RLIMIT_NPROC 62132 current, 62132 max\n",
      "OpenBLAS blas_thread_init: pthread_create failed for thread 17 of 20: Resource temporarily unavailable\n",
      "OpenBLAS blas_thread_init: RLIMIT_NPROC 62132 current, 62132 max\n",
      "OpenBLAS blas_thread_init: pthread_create failed for thread 18 of 20: Resource temporarily unavailable\n",
      "OpenBLAS blas_thread_init: RLIMIT_NPROC 62132 current, 62132 max\n",
      "OpenBLAS blas_thread_init: pthread_create failed for thread 19 of 20: Resource temporarily unavailable\n",
      "OpenBLAS blas_thread_init: RLIMIT_NPROC 62132 current, 62132 max\n"
     ]
    },
    {
     "name": "stdout",
     "output_type": "stream",
     "text": [
      "[WARNING] [2022-10-26 11:37:04,607:Client-EnsembleBuilder] No runs were available to build an ensemble from\n"
     ]
    },
    {
     "name": "stderr",
     "output_type": "stream",
     "text": [
      "OpenBLAS blas_thread_init: pthread_create failed for thread 16 of 20: Resource temporarily unavailable\n",
      "OpenBLAS blas_thread_init: RLIMIT_NPROC 62132 current, 62132 max\n",
      "OpenBLAS blas_thread_init: pthread_create failed for thread 17 of 20: Resource temporarily unavailable\n",
      "OpenBLAS blas_thread_init: RLIMIT_NPROC 62132 current, 62132 max\n",
      "OpenBLAS blas_thread_init: pthread_create failed for thread 18 of 20: Resource temporarily unavailable\n",
      "OpenBLAS blas_thread_init: RLIMIT_NPROC 62132 current, 62132 max\n",
      "OpenBLAS blas_thread_init: pthread_create failed for thread 19 of 20: Resource temporarily unavailable\n",
      "OpenBLAS blas_thread_init: RLIMIT_NPROC 62132 current, 62132 max\n"
     ]
    },
    {
     "name": "stdout",
     "output_type": "stream",
     "text": [
      "[WARNING] [2022-10-26 11:37:05,710:Client-EnsembleBuilder] No runs were available to build an ensemble from\n"
     ]
    },
    {
     "name": "stderr",
     "output_type": "stream",
     "text": [
      "OpenBLAS blas_thread_init: pthread_create failed for thread 16 of 20: Resource temporarily unavailable\n",
      "OpenBLAS blas_thread_init: RLIMIT_NPROC 62132 current, 62132 max\n",
      "OpenBLAS blas_thread_init: pthread_create failed for thread 17 of 20: Resource temporarily unavailable\n",
      "OpenBLAS blas_thread_init: RLIMIT_NPROC 62132 current, 62132 max\n",
      "OpenBLAS blas_thread_init: pthread_create failed for thread 18 of 20: Resource temporarily unavailable\n",
      "OpenBLAS blas_thread_init: RLIMIT_NPROC 62132 current, 62132 max\n",
      "OpenBLAS blas_thread_init: pthread_create failed for thread 19 of 20: Resource temporarily unavailable\n",
      "OpenBLAS blas_thread_init: RLIMIT_NPROC 62132 current, 62132 max\n"
     ]
    },
    {
     "name": "stdout",
     "output_type": "stream",
     "text": [
      "[WARNING] [2022-10-26 11:37:06,806:Client-EnsembleBuilder] No runs were available to build an ensemble from\n"
     ]
    },
    {
     "name": "stderr",
     "output_type": "stream",
     "text": [
      "OpenBLAS blas_thread_init: pthread_create failed for thread 16 of 20: Resource temporarily unavailable\n",
      "OpenBLAS blas_thread_init: RLIMIT_NPROC 62132 current, 62132 max\n",
      "OpenBLAS blas_thread_init: pthread_create failed for thread 17 of 20: Resource temporarily unavailable\n",
      "OpenBLAS blas_thread_init: RLIMIT_NPROC 62132 current, 62132 max\n",
      "OpenBLAS blas_thread_init: pthread_create failed for thread 18 of 20: Resource temporarily unavailable\n",
      "OpenBLAS blas_thread_init: RLIMIT_NPROC 62132 current, 62132 max\n",
      "OpenBLAS blas_thread_init: pthread_create failed for thread 19 of 20: Resource temporarily unavailable\n",
      "OpenBLAS blas_thread_init: RLIMIT_NPROC 62132 current, 62132 max\n"
     ]
    },
    {
     "name": "stdout",
     "output_type": "stream",
     "text": [
      "[WARNING] [2022-10-26 11:37:07,921:Client-EnsembleBuilder] No runs were available to build an ensemble from\n"
     ]
    },
    {
     "name": "stderr",
     "output_type": "stream",
     "text": [
      "OpenBLAS blas_thread_init: pthread_create failed for thread 16 of 20: Resource temporarily unavailable\n",
      "OpenBLAS blas_thread_init: RLIMIT_NPROC 62132 current, 62132 max\n",
      "OpenBLAS blas_thread_init: pthread_create failed for thread 17 of 20: Resource temporarily unavailable\n",
      "OpenBLAS blas_thread_init: RLIMIT_NPROC 62132 current, 62132 max\n",
      "OpenBLAS blas_thread_init: pthread_create failed for thread 18 of 20: Resource temporarily unavailable\n",
      "OpenBLAS blas_thread_init: RLIMIT_NPROC 62132 current, 62132 max\n",
      "OpenBLAS blas_thread_init: pthread_create failed for thread 19 of 20: Resource temporarily unavailable\n",
      "OpenBLAS blas_thread_init: RLIMIT_NPROC 62132 current, 62132 max\n"
     ]
    },
    {
     "name": "stdout",
     "output_type": "stream",
     "text": [
      "[WARNING] [2022-10-26 11:37:09,076:Client-EnsembleBuilder] No runs were available to build an ensemble from\n"
     ]
    },
    {
     "name": "stderr",
     "output_type": "stream",
     "text": [
      "OpenBLAS blas_thread_init: pthread_create failed for thread 16 of 20: Resource temporarily unavailable\n",
      "OpenBLAS blas_thread_init: RLIMIT_NPROC 62132 current, 62132 max\n",
      "OpenBLAS blas_thread_init: pthread_create failed for thread 17 of 20: Resource temporarily unavailable\n",
      "OpenBLAS blas_thread_init: RLIMIT_NPROC 62132 current, 62132 max\n",
      "OpenBLAS blas_thread_init: pthread_create failed for thread 18 of 20: Resource temporarily unavailable\n",
      "OpenBLAS blas_thread_init: RLIMIT_NPROC 62132 current, 62132 max\n",
      "OpenBLAS blas_thread_init: pthread_create failed for thread 19 of 20: Resource temporarily unavailable\n",
      "OpenBLAS blas_thread_init: RLIMIT_NPROC 62132 current, 62132 max\n"
     ]
    },
    {
     "name": "stdout",
     "output_type": "stream",
     "text": [
      "[WARNING] [2022-10-26 11:37:10,168:Client-EnsembleBuilder] No runs were available to build an ensemble from\n"
     ]
    },
    {
     "name": "stderr",
     "output_type": "stream",
     "text": [
      "OpenBLAS blas_thread_init: pthread_create failed for thread 16 of 20: Resource temporarily unavailable\n",
      "OpenBLAS blas_thread_init: RLIMIT_NPROC 62132 current, 62132 max\n",
      "OpenBLAS blas_thread_init: pthread_create failed for thread 17 of 20: Resource temporarily unavailable\n",
      "OpenBLAS blas_thread_init: RLIMIT_NPROC 62132 current, 62132 max\n",
      "OpenBLAS blas_thread_init: pthread_create failed for thread 18 of 20: Resource temporarily unavailable\n",
      "OpenBLAS blas_thread_init: RLIMIT_NPROC 62132 current, 62132 max\n",
      "OpenBLAS blas_thread_init: pthread_create failed for thread 19 of 20: Resource temporarily unavailable\n",
      "OpenBLAS blas_thread_init: RLIMIT_NPROC 62132 current, 62132 max\n"
     ]
    },
    {
     "name": "stdout",
     "output_type": "stream",
     "text": [
      "[WARNING] [2022-10-26 11:37:12,434:Client-EnsembleBuilder] No runs were available to build an ensemble from\n"
     ]
    },
    {
     "name": "stderr",
     "output_type": "stream",
     "text": [
      "OpenBLAS blas_thread_init: pthread_create failed for thread 16 of 20: Resource temporarily unavailable\n",
      "OpenBLAS blas_thread_init: RLIMIT_NPROC 62132 current, 62132 max\n",
      "OpenBLAS blas_thread_init: pthread_create failed for thread 17 of 20: Resource temporarily unavailable\n",
      "OpenBLAS blas_thread_init: RLIMIT_NPROC 62132 current, 62132 max\n",
      "OpenBLAS blas_thread_init: pthread_create failed for thread 18 of 20: Resource temporarily unavailable\n",
      "OpenBLAS blas_thread_init: RLIMIT_NPROC 62132 current, 62132 max\n",
      "OpenBLAS blas_thread_init: pthread_create failed for thread 19 of 20: Resource temporarily unavailable\n",
      "OpenBLAS blas_thread_init: RLIMIT_NPROC 62132 current, 62132 max\n"
     ]
    },
    {
     "name": "stdout",
     "output_type": "stream",
     "text": [
      "[WARNING] [2022-10-26 11:37:13,530:Client-EnsembleBuilder] No runs were available to build an ensemble from\n"
     ]
    },
    {
     "name": "stderr",
     "output_type": "stream",
     "text": [
      "OpenBLAS blas_thread_init: pthread_create failed for thread 16 of 20: Resource temporarily unavailable\n",
      "OpenBLAS blas_thread_init: RLIMIT_NPROC 62132 current, 62132 max\n",
      "OpenBLAS blas_thread_init: pthread_create failed for thread 17 of 20: Resource temporarily unavailable\n",
      "OpenBLAS blas_thread_init: RLIMIT_NPROC 62132 current, 62132 max\n",
      "OpenBLAS blas_thread_init: pthread_create failed for thread 18 of 20: Resource temporarily unavailable\n",
      "OpenBLAS blas_thread_init: RLIMIT_NPROC 62132 current, 62132 max\n",
      "OpenBLAS blas_thread_init: pthread_create failed for thread 19 of 20: Resource temporarily unavailable\n",
      "OpenBLAS blas_thread_init: RLIMIT_NPROC 62132 current, 62132 max\n"
     ]
    },
    {
     "name": "stdout",
     "output_type": "stream",
     "text": [
      "[WARNING] [2022-10-26 11:37:14,653:Client-EnsembleBuilder] No runs were available to build an ensemble from\n"
     ]
    },
    {
     "name": "stderr",
     "output_type": "stream",
     "text": [
      "OpenBLAS blas_thread_init: pthread_create failed for thread 16 of 20: Resource temporarily unavailable\n",
      "OpenBLAS blas_thread_init: RLIMIT_NPROC 62132 current, 62132 max\n",
      "OpenBLAS blas_thread_init: pthread_create failed for thread 17 of 20: Resource temporarily unavailable\n",
      "OpenBLAS blas_thread_init: RLIMIT_NPROC 62132 current, 62132 max\n",
      "OpenBLAS blas_thread_init: pthread_create failed for thread 18 of 20: Resource temporarily unavailable\n",
      "OpenBLAS blas_thread_init: RLIMIT_NPROC 62132 current, 62132 max\n",
      "OpenBLAS blas_thread_init: pthread_create failed for thread 19 of 20: Resource temporarily unavailable\n",
      "OpenBLAS blas_thread_init: RLIMIT_NPROC 62132 current, 62132 max\n"
     ]
    },
    {
     "name": "stdout",
     "output_type": "stream",
     "text": [
      "[WARNING] [2022-10-26 11:37:17,047:Client-EnsembleBuilder] No runs were available to build an ensemble from\n"
     ]
    },
    {
     "name": "stderr",
     "output_type": "stream",
     "text": [
      "OpenBLAS blas_thread_init: pthread_create failed for thread 16 of 20: Resource temporarily unavailable\n",
      "OpenBLAS blas_thread_init: RLIMIT_NPROC 62132 current, 62132 max\n",
      "OpenBLAS blas_thread_init: pthread_create failed for thread 17 of 20: Resource temporarily unavailable\n",
      "OpenBLAS blas_thread_init: RLIMIT_NPROC 62132 current, 62132 max\n",
      "OpenBLAS blas_thread_init: pthread_create failed for thread 18 of 20: Resource temporarily unavailable\n",
      "OpenBLAS blas_thread_init: RLIMIT_NPROC 62132 current, 62132 max\n",
      "OpenBLAS blas_thread_init: pthread_create failed for thread 19 of 20: Resource temporarily unavailable\n",
      "OpenBLAS blas_thread_init: RLIMIT_NPROC 62132 current, 62132 max\n"
     ]
    },
    {
     "name": "stdout",
     "output_type": "stream",
     "text": [
      "[WARNING] [2022-10-26 11:37:19,474:Client-EnsembleBuilder] No runs were available to build an ensemble from\n"
     ]
    },
    {
     "name": "stderr",
     "output_type": "stream",
     "text": [
      "OpenBLAS blas_thread_init: pthread_create failed for thread 16 of 20: Resource temporarily unavailable\n",
      "OpenBLAS blas_thread_init: RLIMIT_NPROC 62132 current, 62132 max\n",
      "OpenBLAS blas_thread_init: pthread_create failed for thread 17 of 20: Resource temporarily unavailable\n",
      "OpenBLAS blas_thread_init: RLIMIT_NPROC 62132 current, 62132 max\n",
      "OpenBLAS blas_thread_init: pthread_create failed for thread 18 of 20: Resource temporarily unavailable\n",
      "OpenBLAS blas_thread_init: RLIMIT_NPROC 62132 current, 62132 max\n",
      "OpenBLAS blas_thread_init: pthread_create failed for thread 19 of 20: Resource temporarily unavailable\n",
      "OpenBLAS blas_thread_init: RLIMIT_NPROC 62132 current, 62132 max\n"
     ]
    },
    {
     "name": "stdout",
     "output_type": "stream",
     "text": [
      "[WARNING] [2022-10-26 11:37:20,581:Client-EnsembleBuilder] No runs were available to build an ensemble from\n"
     ]
    },
    {
     "name": "stderr",
     "output_type": "stream",
     "text": [
      "OpenBLAS blas_thread_init: pthread_create failed for thread 16 of 20: Resource temporarily unavailable\n",
      "OpenBLAS blas_thread_init: RLIMIT_NPROC 62132 current, 62132 max\n",
      "OpenBLAS blas_thread_init: pthread_create failed for thread 17 of 20: Resource temporarily unavailable\n",
      "OpenBLAS blas_thread_init: RLIMIT_NPROC 62132 current, 62132 max\n",
      "OpenBLAS blas_thread_init: pthread_create failed for thread 18 of 20: Resource temporarily unavailable\n",
      "OpenBLAS blas_thread_init: RLIMIT_NPROC 62132 current, 62132 max\n",
      "OpenBLAS blas_thread_init: pthread_create failed for thread 19 of 20: Resource temporarily unavailable\n",
      "OpenBLAS blas_thread_init: RLIMIT_NPROC 62132 current, 62132 max\n"
     ]
    },
    {
     "name": "stdout",
     "output_type": "stream",
     "text": [
      "[WARNING] [2022-10-26 11:37:23,141:Client-EnsembleBuilder] No runs were available to build an ensemble from\n"
     ]
    },
    {
     "name": "stderr",
     "output_type": "stream",
     "text": [
      "OpenBLAS blas_thread_init: pthread_create failed for thread 16 of 20: Resource temporarily unavailable\n",
      "OpenBLAS blas_thread_init: RLIMIT_NPROC 62132 current, 62132 max\n",
      "OpenBLAS blas_thread_init: pthread_create failed for thread 17 of 20: Resource temporarily unavailable\n",
      "OpenBLAS blas_thread_init: RLIMIT_NPROC 62132 current, 62132 max\n",
      "OpenBLAS blas_thread_init: pthread_create failed for thread 18 of 20: Resource temporarily unavailable\n",
      "OpenBLAS blas_thread_init: RLIMIT_NPROC 62132 current, 62132 max\n",
      "OpenBLAS blas_thread_init: pthread_create failed for thread 19 of 20: Resource temporarily unavailable\n",
      "OpenBLAS blas_thread_init: RLIMIT_NPROC 62132 current, 62132 max\n"
     ]
    },
    {
     "name": "stdout",
     "output_type": "stream",
     "text": [
      "[WARNING] [2022-10-26 11:37:24,240:Client-EnsembleBuilder] No runs were available to build an ensemble from\n"
     ]
    },
    {
     "name": "stderr",
     "output_type": "stream",
     "text": [
      "OpenBLAS blas_thread_init: pthread_create failed for thread 16 of 20: Resource temporarily unavailable\n",
      "OpenBLAS blas_thread_init: RLIMIT_NPROC 62132 current, 62132 max\n",
      "OpenBLAS blas_thread_init: pthread_create failed for thread 17 of 20: Resource temporarily unavailable\n",
      "OpenBLAS blas_thread_init: RLIMIT_NPROC 62132 current, 62132 max\n",
      "OpenBLAS blas_thread_init: pthread_create failed for thread 18 of 20: Resource temporarily unavailable\n",
      "OpenBLAS blas_thread_init: RLIMIT_NPROC 62132 current, 62132 max\n",
      "OpenBLAS blas_thread_init: pthread_create failed for thread 19 of 20: Resource temporarily unavailable\n",
      "OpenBLAS blas_thread_init: RLIMIT_NPROC 62132 current, 62132 max\n"
     ]
    },
    {
     "name": "stdout",
     "output_type": "stream",
     "text": [
      "[WARNING] [2022-10-26 11:37:26,934:Client-EnsembleBuilder] No runs were available to build an ensemble from\n"
     ]
    },
    {
     "name": "stderr",
     "output_type": "stream",
     "text": [
      "OpenBLAS blas_thread_init: pthread_create failed for thread 16 of 20: Resource temporarily unavailable\n",
      "OpenBLAS blas_thread_init: RLIMIT_NPROC 62132 current, 62132 max\n",
      "OpenBLAS blas_thread_init: pthread_create failed for thread 17 of 20: Resource temporarily unavailable\n",
      "OpenBLAS blas_thread_init: RLIMIT_NPROC 62132 current, 62132 max\n",
      "OpenBLAS blas_thread_init: pthread_create failed for thread 18 of 20: Resource temporarily unavailable\n",
      "OpenBLAS blas_thread_init: RLIMIT_NPROC 62132 current, 62132 max\n",
      "OpenBLAS blas_thread_init: pthread_create failed for thread 19 of 20: Resource temporarily unavailable\n",
      "OpenBLAS blas_thread_init: RLIMIT_NPROC 62132 current, 62132 max\n"
     ]
    },
    {
     "name": "stdout",
     "output_type": "stream",
     "text": [
      "[WARNING] [2022-10-26 11:37:28,055:Client-EnsembleBuilder] No runs were available to build an ensemble from\n"
     ]
    },
    {
     "name": "stderr",
     "output_type": "stream",
     "text": [
      "OpenBLAS blas_thread_init: pthread_create failed for thread 16 of 20: Resource temporarily unavailable\n",
      "OpenBLAS blas_thread_init: RLIMIT_NPROC 62132 current, 62132 max\n",
      "OpenBLAS blas_thread_init: pthread_create failed for thread 17 of 20: Resource temporarily unavailable\n",
      "OpenBLAS blas_thread_init: RLIMIT_NPROC 62132 current, 62132 max\n",
      "OpenBLAS blas_thread_init: pthread_create failed for thread 18 of 20: Resource temporarily unavailable\n",
      "OpenBLAS blas_thread_init: RLIMIT_NPROC 62132 current, 62132 max\n",
      "OpenBLAS blas_thread_init: pthread_create failed for thread 19 of 20: Resource temporarily unavailable\n",
      "OpenBLAS blas_thread_init: RLIMIT_NPROC 62132 current, 62132 max\n"
     ]
    },
    {
     "name": "stdout",
     "output_type": "stream",
     "text": [
      "[WARNING] [2022-10-26 11:37:29,151:Client-EnsembleBuilder] No runs were available to build an ensemble from\n"
     ]
    },
    {
     "name": "stderr",
     "output_type": "stream",
     "text": [
      "OpenBLAS blas_thread_init: pthread_create failed for thread 16 of 20: Resource temporarily unavailable\n",
      "OpenBLAS blas_thread_init: RLIMIT_NPROC 62132 current, 62132 max\n",
      "OpenBLAS blas_thread_init: pthread_create failed for thread 17 of 20: Resource temporarily unavailable\n",
      "OpenBLAS blas_thread_init: RLIMIT_NPROC 62132 current, 62132 max\n",
      "OpenBLAS blas_thread_init: pthread_create failed for thread 18 of 20: Resource temporarily unavailable\n",
      "OpenBLAS blas_thread_init: RLIMIT_NPROC 62132 current, 62132 max\n",
      "OpenBLAS blas_thread_init: pthread_create failed for thread 19 of 20: Resource temporarily unavailable\n",
      "OpenBLAS blas_thread_init: RLIMIT_NPROC 62132 current, 62132 max\n"
     ]
    },
    {
     "name": "stdout",
     "output_type": "stream",
     "text": [
      "[WARNING] [2022-10-26 11:37:31,597:Client-EnsembleBuilder] No runs were available to build an ensemble from\n"
     ]
    },
    {
     "name": "stderr",
     "output_type": "stream",
     "text": [
      "OpenBLAS blas_thread_init: pthread_create failed for thread 16 of 20: Resource temporarily unavailable\n",
      "OpenBLAS blas_thread_init: RLIMIT_NPROC 62132 current, 62132 max\n",
      "OpenBLAS blas_thread_init: pthread_create failed for thread 17 of 20: Resource temporarily unavailable\n",
      "OpenBLAS blas_thread_init: RLIMIT_NPROC 62132 current, 62132 max\n",
      "OpenBLAS blas_thread_init: pthread_create failed for thread 18 of 20: Resource temporarily unavailable\n",
      "OpenBLAS blas_thread_init: RLIMIT_NPROC 62132 current, 62132 max\n",
      "OpenBLAS blas_thread_init: pthread_create failed for thread 19 of 20: Resource temporarily unavailable\n",
      "OpenBLAS blas_thread_init: RLIMIT_NPROC 62132 current, 62132 max\n"
     ]
    },
    {
     "name": "stdout",
     "output_type": "stream",
     "text": [
      "[WARNING] [2022-10-26 11:37:34,080:Client-EnsembleBuilder] No runs were available to build an ensemble from\n"
     ]
    },
    {
     "name": "stderr",
     "output_type": "stream",
     "text": [
      "OpenBLAS blas_thread_init: pthread_create failed for thread 16 of 20: Resource temporarily unavailable\n",
      "OpenBLAS blas_thread_init: RLIMIT_NPROC 62132 current, 62132 max\n",
      "OpenBLAS blas_thread_init: pthread_create failed for thread 17 of 20: Resource temporarily unavailable\n",
      "OpenBLAS blas_thread_init: RLIMIT_NPROC 62132 current, 62132 max\n",
      "OpenBLAS blas_thread_init: pthread_create failed for thread 18 of 20: Resource temporarily unavailable\n",
      "OpenBLAS blas_thread_init: RLIMIT_NPROC 62132 current, 62132 max\n",
      "OpenBLAS blas_thread_init: pthread_create failed for thread 19 of 20: Resource temporarily unavailable\n",
      "OpenBLAS blas_thread_init: RLIMIT_NPROC 62132 current, 62132 max\n"
     ]
    },
    {
     "name": "stdout",
     "output_type": "stream",
     "text": [
      "[WARNING] [2022-10-26 11:37:36,661:Client-EnsembleBuilder] No runs were available to build an ensemble from\n"
     ]
    },
    {
     "name": "stderr",
     "output_type": "stream",
     "text": [
      "OpenBLAS blas_thread_init: pthread_create failed for thread 16 of 20: Resource temporarily unavailable\n",
      "OpenBLAS blas_thread_init: RLIMIT_NPROC 62132 current, 62132 max\n",
      "OpenBLAS blas_thread_init: pthread_create failed for thread 17 of 20: Resource temporarily unavailable\n",
      "OpenBLAS blas_thread_init: RLIMIT_NPROC 62132 current, 62132 max\n",
      "OpenBLAS blas_thread_init: pthread_create failed for thread 18 of 20: Resource temporarily unavailable\n",
      "OpenBLAS blas_thread_init: RLIMIT_NPROC 62132 current, 62132 max\n",
      "OpenBLAS blas_thread_init: pthread_create failed for thread 19 of 20: Resource temporarily unavailable\n",
      "OpenBLAS blas_thread_init: RLIMIT_NPROC 62132 current, 62132 max\n"
     ]
    },
    {
     "name": "stdout",
     "output_type": "stream",
     "text": [
      "[WARNING] [2022-10-26 11:37:39,178:Client-EnsembleBuilder] No runs were available to build an ensemble from\n"
     ]
    },
    {
     "name": "stderr",
     "output_type": "stream",
     "text": [
      "OpenBLAS blas_thread_init: pthread_create failed for thread 16 of 20: Resource temporarily unavailable\n",
      "OpenBLAS blas_thread_init: RLIMIT_NPROC 62132 current, 62132 max\n",
      "OpenBLAS blas_thread_init: pthread_create failed for thread 17 of 20: Resource temporarily unavailable\n",
      "OpenBLAS blas_thread_init: RLIMIT_NPROC 62132 current, 62132 max\n",
      "OpenBLAS blas_thread_init: pthread_create failed for thread 18 of 20: Resource temporarily unavailable\n",
      "OpenBLAS blas_thread_init: RLIMIT_NPROC 62132 current, 62132 max\n",
      "OpenBLAS blas_thread_init: pthread_create failed for thread 19 of 20: Resource temporarily unavailable\n",
      "OpenBLAS blas_thread_init: RLIMIT_NPROC 62132 current, 62132 max\n"
     ]
    },
    {
     "name": "stdout",
     "output_type": "stream",
     "text": [
      "[WARNING] [2022-10-26 11:37:40,280:Client-EnsembleBuilder] No runs were available to build an ensemble from\n"
     ]
    },
    {
     "name": "stderr",
     "output_type": "stream",
     "text": [
      "OpenBLAS blas_thread_init: pthread_create failed for thread 16 of 20: Resource temporarily unavailable\n",
      "OpenBLAS blas_thread_init: RLIMIT_NPROC 62132 current, 62132 max\n",
      "OpenBLAS blas_thread_init: pthread_create failed for thread 17 of 20: Resource temporarily unavailable\n",
      "OpenBLAS blas_thread_init: RLIMIT_NPROC 62132 current, 62132 max\n",
      "OpenBLAS blas_thread_init: pthread_create failed for thread 18 of 20: Resource temporarily unavailable\n",
      "OpenBLAS blas_thread_init: RLIMIT_NPROC 62132 current, 62132 max\n",
      "OpenBLAS blas_thread_init: pthread_create failed for thread 19 of 20: Resource temporarily unavailable\n",
      "OpenBLAS blas_thread_init: RLIMIT_NPROC 62132 current, 62132 max\n"
     ]
    },
    {
     "name": "stdout",
     "output_type": "stream",
     "text": [
      "[WARNING] [2022-10-26 11:37:42,822:Client-EnsembleBuilder] No runs were available to build an ensemble from\n"
     ]
    },
    {
     "name": "stderr",
     "output_type": "stream",
     "text": [
      "OpenBLAS blas_thread_init: pthread_create failed for thread 16 of 20: Resource temporarily unavailable\n",
      "OpenBLAS blas_thread_init: RLIMIT_NPROC 62132 current, 62132 max\n",
      "OpenBLAS blas_thread_init: pthread_create failed for thread 17 of 20: Resource temporarily unavailable\n",
      "OpenBLAS blas_thread_init: RLIMIT_NPROC 62132 current, 62132 max\n",
      "OpenBLAS blas_thread_init: pthread_create failed for thread 18 of 20: Resource temporarily unavailable\n",
      "OpenBLAS blas_thread_init: RLIMIT_NPROC 62132 current, 62132 max\n",
      "OpenBLAS blas_thread_init: pthread_create failed for thread 19 of 20: Resource temporarily unavailable\n",
      "OpenBLAS blas_thread_init: RLIMIT_NPROC 62132 current, 62132 max\n"
     ]
    },
    {
     "name": "stdout",
     "output_type": "stream",
     "text": [
      "[WARNING] [2022-10-26 11:37:43,934:Client-EnsembleBuilder] No runs were available to build an ensemble from\n"
     ]
    },
    {
     "name": "stderr",
     "output_type": "stream",
     "text": [
      "OpenBLAS blas_thread_init: pthread_create failed for thread 16 of 20: Resource temporarily unavailable\n",
      "OpenBLAS blas_thread_init: RLIMIT_NPROC 62132 current, 62132 max\n",
      "OpenBLAS blas_thread_init: pthread_create failed for thread 17 of 20: Resource temporarily unavailable\n",
      "OpenBLAS blas_thread_init: RLIMIT_NPROC 62132 current, 62132 max\n",
      "OpenBLAS blas_thread_init: pthread_create failed for thread 18 of 20: Resource temporarily unavailable\n",
      "OpenBLAS blas_thread_init: RLIMIT_NPROC 62132 current, 62132 max\n",
      "OpenBLAS blas_thread_init: pthread_create failed for thread 19 of 20: Resource temporarily unavailable\n",
      "OpenBLAS blas_thread_init: RLIMIT_NPROC 62132 current, 62132 max\n"
     ]
    },
    {
     "name": "stdout",
     "output_type": "stream",
     "text": [
      "[WARNING] [2022-10-26 11:37:46,419:Client-EnsembleBuilder] No runs were available to build an ensemble from\n"
     ]
    },
    {
     "name": "stderr",
     "output_type": "stream",
     "text": [
      "OpenBLAS blas_thread_init: pthread_create failed for thread 16 of 20: Resource temporarily unavailable\n",
      "OpenBLAS blas_thread_init: RLIMIT_NPROC 62132 current, 62132 max\n",
      "OpenBLAS blas_thread_init: pthread_create failed for thread 17 of 20: Resource temporarily unavailable\n",
      "OpenBLAS blas_thread_init: RLIMIT_NPROC 62132 current, 62132 max\n",
      "OpenBLAS blas_thread_init: pthread_create failed for thread 18 of 20: Resource temporarily unavailable\n",
      "OpenBLAS blas_thread_init: RLIMIT_NPROC 62132 current, 62132 max\n",
      "OpenBLAS blas_thread_init: pthread_create failed for thread 19 of 20: Resource temporarily unavailable\n",
      "OpenBLAS blas_thread_init: RLIMIT_NPROC 62132 current, 62132 max\n"
     ]
    },
    {
     "name": "stdout",
     "output_type": "stream",
     "text": [
      "[WARNING] [2022-10-26 11:37:47,528:Client-EnsembleBuilder] No runs were available to build an ensemble from\n"
     ]
    },
    {
     "name": "stderr",
     "output_type": "stream",
     "text": [
      "OpenBLAS blas_thread_init: pthread_create failed for thread 16 of 20: Resource temporarily unavailable\n",
      "OpenBLAS blas_thread_init: RLIMIT_NPROC 62132 current, 62132 max\n",
      "OpenBLAS blas_thread_init: pthread_create failed for thread 17 of 20: Resource temporarily unavailable\n",
      "OpenBLAS blas_thread_init: RLIMIT_NPROC 62132 current, 62132 max\n",
      "OpenBLAS blas_thread_init: pthread_create failed for thread 18 of 20: Resource temporarily unavailable\n",
      "OpenBLAS blas_thread_init: RLIMIT_NPROC 62132 current, 62132 max\n",
      "OpenBLAS blas_thread_init: pthread_create failed for thread 19 of 20: Resource temporarily unavailable\n",
      "OpenBLAS blas_thread_init: RLIMIT_NPROC 62132 current, 62132 max\n"
     ]
    },
    {
     "name": "stdout",
     "output_type": "stream",
     "text": [
      "[WARNING] [2022-10-26 11:37:50,174:Client-EnsembleBuilder] No runs were available to build an ensemble from\n"
     ]
    },
    {
     "name": "stderr",
     "output_type": "stream",
     "text": [
      "OpenBLAS blas_thread_init: pthread_create failed for thread 16 of 20: Resource temporarily unavailable\n",
      "OpenBLAS blas_thread_init: RLIMIT_NPROC 62132 current, 62132 max\n",
      "OpenBLAS blas_thread_init: pthread_create failed for thread 17 of 20: Resource temporarily unavailable\n",
      "OpenBLAS blas_thread_init: RLIMIT_NPROC 62132 current, 62132 max\n",
      "OpenBLAS blas_thread_init: pthread_create failed for thread 18 of 20: Resource temporarily unavailable\n",
      "OpenBLAS blas_thread_init: RLIMIT_NPROC 62132 current, 62132 max\n",
      "OpenBLAS blas_thread_init: pthread_create failed for thread 19 of 20: Resource temporarily unavailable\n",
      "OpenBLAS blas_thread_init: RLIMIT_NPROC 62132 current, 62132 max\n"
     ]
    },
    {
     "name": "stdout",
     "output_type": "stream",
     "text": [
      "[WARNING] [2022-10-26 11:37:52,685:Client-EnsembleBuilder] No runs were available to build an ensemble from\n"
     ]
    },
    {
     "name": "stderr",
     "output_type": "stream",
     "text": [
      "OpenBLAS blas_thread_init: pthread_create failed for thread 16 of 20: Resource temporarily unavailable\n",
      "OpenBLAS blas_thread_init: RLIMIT_NPROC 62132 current, 62132 max\n",
      "OpenBLAS blas_thread_init: pthread_create failed for thread 17 of 20: Resource temporarily unavailable\n",
      "OpenBLAS blas_thread_init: RLIMIT_NPROC 62132 current, 62132 max\n",
      "OpenBLAS blas_thread_init: pthread_create failed for thread 18 of 20: Resource temporarily unavailable\n",
      "OpenBLAS blas_thread_init: RLIMIT_NPROC 62132 current, 62132 max\n",
      "OpenBLAS blas_thread_init: pthread_create failed for thread 19 of 20: Resource temporarily unavailable\n",
      "OpenBLAS blas_thread_init: RLIMIT_NPROC 62132 current, 62132 max\n"
     ]
    },
    {
     "name": "stdout",
     "output_type": "stream",
     "text": [
      "[WARNING] [2022-10-26 11:37:55,391:Client-EnsembleBuilder] No runs were available to build an ensemble from\n"
     ]
    },
    {
     "name": "stderr",
     "output_type": "stream",
     "text": [
      "OpenBLAS blas_thread_init: pthread_create failed for thread 16 of 20: Resource temporarily unavailable\n",
      "OpenBLAS blas_thread_init: RLIMIT_NPROC 62132 current, 62132 max\n",
      "OpenBLAS blas_thread_init: pthread_create failed for thread 17 of 20: Resource temporarily unavailable\n",
      "OpenBLAS blas_thread_init: RLIMIT_NPROC 62132 current, 62132 max\n",
      "OpenBLAS blas_thread_init: pthread_create failed for thread 18 of 20: Resource temporarily unavailable\n",
      "OpenBLAS blas_thread_init: RLIMIT_NPROC 62132 current, 62132 max\n",
      "OpenBLAS blas_thread_init: pthread_create failed for thread 19 of 20: Resource temporarily unavailable\n",
      "OpenBLAS blas_thread_init: RLIMIT_NPROC 62132 current, 62132 max\n"
     ]
    },
    {
     "name": "stdout",
     "output_type": "stream",
     "text": [
      "[WARNING] [2022-10-26 11:37:56,488:Client-EnsembleBuilder] No runs were available to build an ensemble from\n"
     ]
    },
    {
     "name": "stderr",
     "output_type": "stream",
     "text": [
      "OpenBLAS blas_thread_init: pthread_create failed for thread 16 of 20: Resource temporarily unavailable\n",
      "OpenBLAS blas_thread_init: RLIMIT_NPROC 62132 current, 62132 max\n",
      "OpenBLAS blas_thread_init: pthread_create failed for thread 17 of 20: Resource temporarily unavailable\n",
      "OpenBLAS blas_thread_init: RLIMIT_NPROC 62132 current, 62132 max\n",
      "OpenBLAS blas_thread_init: pthread_create failed for thread 18 of 20: Resource temporarily unavailable\n",
      "OpenBLAS blas_thread_init: RLIMIT_NPROC 62132 current, 62132 max\n",
      "OpenBLAS blas_thread_init: pthread_create failed for thread 19 of 20: Resource temporarily unavailable\n",
      "OpenBLAS blas_thread_init: RLIMIT_NPROC 62132 current, 62132 max\n"
     ]
    },
    {
     "name": "stdout",
     "output_type": "stream",
     "text": [
      "[WARNING] [2022-10-26 11:37:57,591:Client-EnsembleBuilder] No runs were available to build an ensemble from\n"
     ]
    },
    {
     "name": "stderr",
     "output_type": "stream",
     "text": [
      "OpenBLAS blas_thread_init: pthread_create failed for thread 16 of 20: Resource temporarily unavailable\n",
      "OpenBLAS blas_thread_init: RLIMIT_NPROC 62132 current, 62132 max\n",
      "OpenBLAS blas_thread_init: pthread_create failed for thread 17 of 20: Resource temporarily unavailable\n",
      "OpenBLAS blas_thread_init: RLIMIT_NPROC 62132 current, 62132 max\n",
      "OpenBLAS blas_thread_init: pthread_create failed for thread 18 of 20: Resource temporarily unavailable\n",
      "OpenBLAS blas_thread_init: RLIMIT_NPROC 62132 current, 62132 max\n",
      "OpenBLAS blas_thread_init: pthread_create failed for thread 19 of 20: Resource temporarily unavailable\n",
      "OpenBLAS blas_thread_init: RLIMIT_NPROC 62132 current, 62132 max\n"
     ]
    },
    {
     "name": "stdout",
     "output_type": "stream",
     "text": [
      "[WARNING] [2022-10-26 11:37:58,691:Client-EnsembleBuilder] No runs were available to build an ensemble from\n"
     ]
    },
    {
     "name": "stderr",
     "output_type": "stream",
     "text": [
      "OpenBLAS blas_thread_init: pthread_create failed for thread 16 of 20: Resource temporarily unavailable\n",
      "OpenBLAS blas_thread_init: RLIMIT_NPROC 62132 current, 62132 max\n",
      "OpenBLAS blas_thread_init: pthread_create failed for thread 17 of 20: Resource temporarily unavailable\n",
      "OpenBLAS blas_thread_init: RLIMIT_NPROC 62132 current, 62132 max\n",
      "OpenBLAS blas_thread_init: pthread_create failed for thread 18 of 20: Resource temporarily unavailable\n",
      "OpenBLAS blas_thread_init: RLIMIT_NPROC 62132 current, 62132 max\n",
      "OpenBLAS blas_thread_init: pthread_create failed for thread 19 of 20: Resource temporarily unavailable\n",
      "OpenBLAS blas_thread_init: RLIMIT_NPROC 62132 current, 62132 max\n"
     ]
    },
    {
     "name": "stdout",
     "output_type": "stream",
     "text": [
      "[WARNING] [2022-10-26 11:38:01,400:Client-EnsembleBuilder] No runs were available to build an ensemble from\n"
     ]
    },
    {
     "name": "stderr",
     "output_type": "stream",
     "text": [
      "OpenBLAS blas_thread_init: pthread_create failed for thread 16 of 20: Resource temporarily unavailable\n",
      "OpenBLAS blas_thread_init: RLIMIT_NPROC 62132 current, 62132 max\n",
      "OpenBLAS blas_thread_init: pthread_create failed for thread 17 of 20: Resource temporarily unavailable\n",
      "OpenBLAS blas_thread_init: RLIMIT_NPROC 62132 current, 62132 max\n",
      "OpenBLAS blas_thread_init: pthread_create failed for thread 18 of 20: Resource temporarily unavailable\n",
      "OpenBLAS blas_thread_init: RLIMIT_NPROC 62132 current, 62132 max\n",
      "OpenBLAS blas_thread_init: pthread_create failed for thread 19 of 20: Resource temporarily unavailable\n",
      "OpenBLAS blas_thread_init: RLIMIT_NPROC 62132 current, 62132 max\n"
     ]
    },
    {
     "name": "stdout",
     "output_type": "stream",
     "text": [
      "[WARNING] [2022-10-26 11:38:04,029:Client-EnsembleBuilder] No runs were available to build an ensemble from\n"
     ]
    },
    {
     "name": "stderr",
     "output_type": "stream",
     "text": [
      "OpenBLAS blas_thread_init: pthread_create failed for thread 16 of 20: Resource temporarily unavailable\n",
      "OpenBLAS blas_thread_init: RLIMIT_NPROC 62132 current, 62132 max\n",
      "OpenBLAS blas_thread_init: pthread_create failed for thread 17 of 20: Resource temporarily unavailable\n",
      "OpenBLAS blas_thread_init: RLIMIT_NPROC 62132 current, 62132 max\n",
      "OpenBLAS blas_thread_init: pthread_create failed for thread 18 of 20: Resource temporarily unavailable\n",
      "OpenBLAS blas_thread_init: RLIMIT_NPROC 62132 current, 62132 max\n",
      "OpenBLAS blas_thread_init: pthread_create failed for thread 19 of 20: Resource temporarily unavailable\n",
      "OpenBLAS blas_thread_init: RLIMIT_NPROC 62132 current, 62132 max\n"
     ]
    },
    {
     "name": "stdout",
     "output_type": "stream",
     "text": [
      "[WARNING] [2022-10-26 11:38:05,158:Client-EnsembleBuilder] No runs were available to build an ensemble from\n"
     ]
    },
    {
     "name": "stderr",
     "output_type": "stream",
     "text": [
      "OpenBLAS blas_thread_init: pthread_create failed for thread 16 of 20: Resource temporarily unavailable\n",
      "OpenBLAS blas_thread_init: RLIMIT_NPROC 62132 current, 62132 max\n",
      "OpenBLAS blas_thread_init: pthread_create failed for thread 17 of 20: Resource temporarily unavailable\n",
      "OpenBLAS blas_thread_init: RLIMIT_NPROC 62132 current, 62132 max\n",
      "OpenBLAS blas_thread_init: pthread_create failed for thread 18 of 20: Resource temporarily unavailable\n",
      "OpenBLAS blas_thread_init: RLIMIT_NPROC 62132 current, 62132 max\n",
      "OpenBLAS blas_thread_init: pthread_create failed for thread 19 of 20: Resource temporarily unavailable\n",
      "OpenBLAS blas_thread_init: RLIMIT_NPROC 62132 current, 62132 max\n"
     ]
    },
    {
     "name": "stdout",
     "output_type": "stream",
     "text": [
      "[WARNING] [2022-10-26 11:38:06,329:Client-EnsembleBuilder] No runs were available to build an ensemble from\n"
     ]
    },
    {
     "name": "stderr",
     "output_type": "stream",
     "text": [
      "OpenBLAS blas_thread_init: pthread_create failed for thread 16 of 20: Resource temporarily unavailable\n",
      "OpenBLAS blas_thread_init: RLIMIT_NPROC 62132 current, 62132 max\n",
      "OpenBLAS blas_thread_init: pthread_create failed for thread 17 of 20: Resource temporarily unavailable\n",
      "OpenBLAS blas_thread_init: RLIMIT_NPROC 62132 current, 62132 max\n",
      "OpenBLAS blas_thread_init: pthread_create failed for thread 18 of 20: Resource temporarily unavailable\n",
      "OpenBLAS blas_thread_init: RLIMIT_NPROC 62132 current, 62132 max\n",
      "OpenBLAS blas_thread_init: pthread_create failed for thread 19 of 20: Resource temporarily unavailable\n",
      "OpenBLAS blas_thread_init: RLIMIT_NPROC 62132 current, 62132 max\n"
     ]
    },
    {
     "name": "stdout",
     "output_type": "stream",
     "text": [
      "[WARNING] [2022-10-26 11:38:08,999:Client-EnsembleBuilder] No runs were available to build an ensemble from\n"
     ]
    },
    {
     "name": "stderr",
     "output_type": "stream",
     "text": [
      "OpenBLAS blas_thread_init: pthread_create failed for thread 16 of 20: Resource temporarily unavailable\n",
      "OpenBLAS blas_thread_init: RLIMIT_NPROC 62132 current, 62132 max\n",
      "OpenBLAS blas_thread_init: pthread_create failed for thread 17 of 20: Resource temporarily unavailable\n",
      "OpenBLAS blas_thread_init: RLIMIT_NPROC 62132 current, 62132 max\n",
      "OpenBLAS blas_thread_init: pthread_create failed for thread 18 of 20: Resource temporarily unavailable\n",
      "OpenBLAS blas_thread_init: RLIMIT_NPROC 62132 current, 62132 max\n",
      "OpenBLAS blas_thread_init: pthread_create failed for thread 19 of 20: Resource temporarily unavailable\n",
      "OpenBLAS blas_thread_init: RLIMIT_NPROC 62132 current, 62132 max\n"
     ]
    },
    {
     "name": "stdout",
     "output_type": "stream",
     "text": [
      "[WARNING] [2022-10-26 11:38:10,115:Client-EnsembleBuilder] No runs were available to build an ensemble from\n"
     ]
    },
    {
     "name": "stderr",
     "output_type": "stream",
     "text": [
      "OpenBLAS blas_thread_init: pthread_create failed for thread 16 of 20: Resource temporarily unavailable\n",
      "OpenBLAS blas_thread_init: RLIMIT_NPROC 62132 current, 62132 max\n",
      "OpenBLAS blas_thread_init: pthread_create failed for thread 17 of 20: Resource temporarily unavailable\n",
      "OpenBLAS blas_thread_init: RLIMIT_NPROC 62132 current, 62132 max\n",
      "OpenBLAS blas_thread_init: pthread_create failed for thread 18 of 20: Resource temporarily unavailable\n",
      "OpenBLAS blas_thread_init: RLIMIT_NPROC 62132 current, 62132 max\n",
      "OpenBLAS blas_thread_init: pthread_create failed for thread 19 of 20: Resource temporarily unavailable\n",
      "OpenBLAS blas_thread_init: RLIMIT_NPROC 62132 current, 62132 max\n"
     ]
    },
    {
     "name": "stdout",
     "output_type": "stream",
     "text": [
      "[WARNING] [2022-10-26 11:38:12,654:Client-EnsembleBuilder] No runs were available to build an ensemble from\n"
     ]
    },
    {
     "name": "stderr",
     "output_type": "stream",
     "text": [
      "OpenBLAS blas_thread_init: pthread_create failed for thread 16 of 20: Resource temporarily unavailable\n",
      "OpenBLAS blas_thread_init: RLIMIT_NPROC 62132 current, 62132 max\n",
      "OpenBLAS blas_thread_init: pthread_create failed for thread 17 of 20: Resource temporarily unavailable\n",
      "OpenBLAS blas_thread_init: RLIMIT_NPROC 62132 current, 62132 max\n",
      "OpenBLAS blas_thread_init: pthread_create failed for thread 18 of 20: Resource temporarily unavailable\n",
      "OpenBLAS blas_thread_init: RLIMIT_NPROC 62132 current, 62132 max\n",
      "OpenBLAS blas_thread_init: pthread_create failed for thread 19 of 20: Resource temporarily unavailable\n",
      "OpenBLAS blas_thread_init: RLIMIT_NPROC 62132 current, 62132 max\n"
     ]
    },
    {
     "name": "stdout",
     "output_type": "stream",
     "text": [
      "[WARNING] [2022-10-26 11:38:15,352:Client-EnsembleBuilder] No runs were available to build an ensemble from\n"
     ]
    },
    {
     "name": "stderr",
     "output_type": "stream",
     "text": [
      "OpenBLAS blas_thread_init: pthread_create failed for thread 16 of 20: Resource temporarily unavailable\n",
      "OpenBLAS blas_thread_init: RLIMIT_NPROC 62132 current, 62132 max\n",
      "OpenBLAS blas_thread_init: pthread_create failed for thread 17 of 20: Resource temporarily unavailable\n",
      "OpenBLAS blas_thread_init: RLIMIT_NPROC 62132 current, 62132 max\n",
      "OpenBLAS blas_thread_init: pthread_create failed for thread 18 of 20: Resource temporarily unavailable\n",
      "OpenBLAS blas_thread_init: RLIMIT_NPROC 62132 current, 62132 max\n",
      "OpenBLAS blas_thread_init: pthread_create failed for thread 19 of 20: Resource temporarily unavailable\n",
      "OpenBLAS blas_thread_init: RLIMIT_NPROC 62132 current, 62132 max\n"
     ]
    },
    {
     "name": "stdout",
     "output_type": "stream",
     "text": [
      "[WARNING] [2022-10-26 11:38:18,032:Client-EnsembleBuilder] No runs were available to build an ensemble from\n"
     ]
    },
    {
     "name": "stderr",
     "output_type": "stream",
     "text": [
      "OpenBLAS blas_thread_init: pthread_create failed for thread 16 of 20: Resource temporarily unavailable\n",
      "OpenBLAS blas_thread_init: RLIMIT_NPROC 62132 current, 62132 max\n",
      "OpenBLAS blas_thread_init: pthread_create failed for thread 17 of 20: Resource temporarily unavailable\n",
      "OpenBLAS blas_thread_init: RLIMIT_NPROC 62132 current, 62132 max\n",
      "OpenBLAS blas_thread_init: pthread_create failed for thread 18 of 20: Resource temporarily unavailable\n",
      "OpenBLAS blas_thread_init: RLIMIT_NPROC 62132 current, 62132 max\n",
      "OpenBLAS blas_thread_init: pthread_create failed for thread 19 of 20: Resource temporarily unavailable\n",
      "OpenBLAS blas_thread_init: RLIMIT_NPROC 62132 current, 62132 max\n"
     ]
    },
    {
     "name": "stdout",
     "output_type": "stream",
     "text": [
      "[WARNING] [2022-10-26 11:38:19,135:Client-EnsembleBuilder] No runs were available to build an ensemble from\n"
     ]
    },
    {
     "name": "stderr",
     "output_type": "stream",
     "text": [
      "OpenBLAS blas_thread_init: pthread_create failed for thread 16 of 20: Resource temporarily unavailable\n",
      "OpenBLAS blas_thread_init: RLIMIT_NPROC 62132 current, 62132 max\n",
      "OpenBLAS blas_thread_init: pthread_create failed for thread 17 of 20: Resource temporarily unavailable\n",
      "OpenBLAS blas_thread_init: RLIMIT_NPROC 62132 current, 62132 max\n",
      "OpenBLAS blas_thread_init: pthread_create failed for thread 18 of 20: Resource temporarily unavailable\n",
      "OpenBLAS blas_thread_init: RLIMIT_NPROC 62132 current, 62132 max\n",
      "OpenBLAS blas_thread_init: pthread_create failed for thread 19 of 20: Resource temporarily unavailable\n",
      "OpenBLAS blas_thread_init: RLIMIT_NPROC 62132 current, 62132 max\n"
     ]
    },
    {
     "name": "stdout",
     "output_type": "stream",
     "text": [
      "[WARNING] [2022-10-26 11:38:20,255:Client-EnsembleBuilder] No runs were available to build an ensemble from\n"
     ]
    },
    {
     "name": "stderr",
     "output_type": "stream",
     "text": [
      "OpenBLAS blas_thread_init: pthread_create failed for thread 16 of 20: Resource temporarily unavailable\n",
      "OpenBLAS blas_thread_init: RLIMIT_NPROC 62132 current, 62132 max\n",
      "OpenBLAS blas_thread_init: pthread_create failed for thread 17 of 20: Resource temporarily unavailable\n",
      "OpenBLAS blas_thread_init: RLIMIT_NPROC 62132 current, 62132 max\n",
      "OpenBLAS blas_thread_init: pthread_create failed for thread 18 of 20: Resource temporarily unavailable\n",
      "OpenBLAS blas_thread_init: RLIMIT_NPROC 62132 current, 62132 max\n",
      "OpenBLAS blas_thread_init: pthread_create failed for thread 19 of 20: Resource temporarily unavailable\n",
      "OpenBLAS blas_thread_init: RLIMIT_NPROC 62132 current, 62132 max\n"
     ]
    },
    {
     "name": "stdout",
     "output_type": "stream",
     "text": [
      "[WARNING] [2022-10-26 11:38:21,384:Client-EnsembleBuilder] No runs were available to build an ensemble from\n"
     ]
    },
    {
     "name": "stderr",
     "output_type": "stream",
     "text": [
      "OpenBLAS blas_thread_init: pthread_create failed for thread 16 of 20: Resource temporarily unavailable\n",
      "OpenBLAS blas_thread_init: RLIMIT_NPROC 62132 current, 62132 max\n",
      "OpenBLAS blas_thread_init: pthread_create failed for thread 17 of 20: Resource temporarily unavailable\n",
      "OpenBLAS blas_thread_init: RLIMIT_NPROC 62132 current, 62132 max\n",
      "OpenBLAS blas_thread_init: pthread_create failed for thread 18 of 20: Resource temporarily unavailable\n",
      "OpenBLAS blas_thread_init: RLIMIT_NPROC 62132 current, 62132 max\n",
      "OpenBLAS blas_thread_init: pthread_create failed for thread 19 of 20: Resource temporarily unavailable\n",
      "OpenBLAS blas_thread_init: RLIMIT_NPROC 62132 current, 62132 max\n"
     ]
    },
    {
     "name": "stdout",
     "output_type": "stream",
     "text": [
      "[WARNING] [2022-10-26 11:38:24,063:Client-EnsembleBuilder] No runs were available to build an ensemble from\n"
     ]
    },
    {
     "name": "stderr",
     "output_type": "stream",
     "text": [
      "OpenBLAS blas_thread_init: pthread_create failed for thread 16 of 20: Resource temporarily unavailable\n",
      "OpenBLAS blas_thread_init: RLIMIT_NPROC 62132 current, 62132 max\n",
      "OpenBLAS blas_thread_init: pthread_create failed for thread 17 of 20: Resource temporarily unavailable\n",
      "OpenBLAS blas_thread_init: RLIMIT_NPROC 62132 current, 62132 max\n",
      "OpenBLAS blas_thread_init: pthread_create failed for thread 18 of 20: Resource temporarily unavailable\n",
      "OpenBLAS blas_thread_init: RLIMIT_NPROC 62132 current, 62132 max\n",
      "OpenBLAS blas_thread_init: pthread_create failed for thread 19 of 20: Resource temporarily unavailable\n",
      "OpenBLAS blas_thread_init: RLIMIT_NPROC 62132 current, 62132 max\n"
     ]
    },
    {
     "name": "stdout",
     "output_type": "stream",
     "text": [
      "[WARNING] [2022-10-26 11:38:25,175:Client-EnsembleBuilder] No runs were available to build an ensemble from\n"
     ]
    },
    {
     "name": "stderr",
     "output_type": "stream",
     "text": [
      "OpenBLAS blas_thread_init: pthread_create failed for thread 16 of 20: Resource temporarily unavailable\n",
      "OpenBLAS blas_thread_init: RLIMIT_NPROC 62132 current, 62132 max\n",
      "OpenBLAS blas_thread_init: pthread_create failed for thread 17 of 20: Resource temporarily unavailable\n",
      "OpenBLAS blas_thread_init: RLIMIT_NPROC 62132 current, 62132 max\n",
      "OpenBLAS blas_thread_init: pthread_create failed for thread 18 of 20: Resource temporarily unavailable\n",
      "OpenBLAS blas_thread_init: RLIMIT_NPROC 62132 current, 62132 max\n",
      "OpenBLAS blas_thread_init: pthread_create failed for thread 19 of 20: Resource temporarily unavailable\n",
      "OpenBLAS blas_thread_init: RLIMIT_NPROC 62132 current, 62132 max\n"
     ]
    },
    {
     "name": "stdout",
     "output_type": "stream",
     "text": [
      "[WARNING] [2022-10-26 11:38:26,313:Client-EnsembleBuilder] No runs were available to build an ensemble from\n"
     ]
    },
    {
     "name": "stderr",
     "output_type": "stream",
     "text": [
      "OpenBLAS blas_thread_init: pthread_create failed for thread 16 of 20: Resource temporarily unavailable\n",
      "OpenBLAS blas_thread_init: RLIMIT_NPROC 62132 current, 62132 max\n",
      "OpenBLAS blas_thread_init: pthread_create failed for thread 17 of 20: Resource temporarily unavailable\n",
  